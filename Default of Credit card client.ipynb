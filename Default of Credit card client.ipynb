{
 "cells": [
  {
   "cell_type": "markdown",
   "metadata": {},
   "source": [
    "   # DEFAULT OF CREDIT CARD CLIENT"
   ]
  },
  {
   "cell_type": "markdown",
   "metadata": {},
   "source": [
    " "
   ]
  },
  {
   "cell_type": "code",
   "execution_count": 1,
   "metadata": {
    "scrolled": true
   },
   "outputs": [
    {
     "data": {
      "text/html": [
       "<div>\n",
       "<style scoped>\n",
       "    .dataframe tbody tr th:only-of-type {\n",
       "        vertical-align: middle;\n",
       "    }\n",
       "\n",
       "    .dataframe tbody tr th {\n",
       "        vertical-align: top;\n",
       "    }\n",
       "\n",
       "    .dataframe thead th {\n",
       "        text-align: right;\n",
       "    }\n",
       "</style>\n",
       "<table border=\"1\" class=\"dataframe\">\n",
       "  <thead>\n",
       "    <tr style=\"text-align: right;\">\n",
       "      <th></th>\n",
       "      <th>ID</th>\n",
       "      <th>LIMIT_BAL</th>\n",
       "      <th>SEX</th>\n",
       "      <th>EDUCATION</th>\n",
       "      <th>MARRIAGE</th>\n",
       "      <th>AGE</th>\n",
       "      <th>PAY_0</th>\n",
       "      <th>PAY_2</th>\n",
       "      <th>PAY_3</th>\n",
       "      <th>PAY_4</th>\n",
       "      <th>...</th>\n",
       "      <th>BILL_AMT4</th>\n",
       "      <th>BILL_AMT5</th>\n",
       "      <th>BILL_AMT6</th>\n",
       "      <th>PAY_AMT1</th>\n",
       "      <th>PAY_AMT2</th>\n",
       "      <th>PAY_AMT3</th>\n",
       "      <th>PAY_AMT4</th>\n",
       "      <th>PAY_AMT5</th>\n",
       "      <th>PAY_AMT6</th>\n",
       "      <th>default.payment.next.month</th>\n",
       "    </tr>\n",
       "  </thead>\n",
       "  <tbody>\n",
       "    <tr>\n",
       "      <th>0</th>\n",
       "      <td>1</td>\n",
       "      <td>20000.0</td>\n",
       "      <td>2</td>\n",
       "      <td>2</td>\n",
       "      <td>1</td>\n",
       "      <td>24</td>\n",
       "      <td>2</td>\n",
       "      <td>2</td>\n",
       "      <td>-1</td>\n",
       "      <td>-1</td>\n",
       "      <td>...</td>\n",
       "      <td>0.0</td>\n",
       "      <td>0.0</td>\n",
       "      <td>0.0</td>\n",
       "      <td>0.0</td>\n",
       "      <td>689.0</td>\n",
       "      <td>0.0</td>\n",
       "      <td>0.0</td>\n",
       "      <td>0.0</td>\n",
       "      <td>0.0</td>\n",
       "      <td>1</td>\n",
       "    </tr>\n",
       "    <tr>\n",
       "      <th>1</th>\n",
       "      <td>2</td>\n",
       "      <td>120000.0</td>\n",
       "      <td>2</td>\n",
       "      <td>2</td>\n",
       "      <td>2</td>\n",
       "      <td>26</td>\n",
       "      <td>-1</td>\n",
       "      <td>2</td>\n",
       "      <td>0</td>\n",
       "      <td>0</td>\n",
       "      <td>...</td>\n",
       "      <td>3272.0</td>\n",
       "      <td>3455.0</td>\n",
       "      <td>3261.0</td>\n",
       "      <td>0.0</td>\n",
       "      <td>1000.0</td>\n",
       "      <td>1000.0</td>\n",
       "      <td>1000.0</td>\n",
       "      <td>0.0</td>\n",
       "      <td>2000.0</td>\n",
       "      <td>1</td>\n",
       "    </tr>\n",
       "    <tr>\n",
       "      <th>2</th>\n",
       "      <td>3</td>\n",
       "      <td>90000.0</td>\n",
       "      <td>2</td>\n",
       "      <td>2</td>\n",
       "      <td>2</td>\n",
       "      <td>34</td>\n",
       "      <td>0</td>\n",
       "      <td>0</td>\n",
       "      <td>0</td>\n",
       "      <td>0</td>\n",
       "      <td>...</td>\n",
       "      <td>14331.0</td>\n",
       "      <td>14948.0</td>\n",
       "      <td>15549.0</td>\n",
       "      <td>1518.0</td>\n",
       "      <td>1500.0</td>\n",
       "      <td>1000.0</td>\n",
       "      <td>1000.0</td>\n",
       "      <td>1000.0</td>\n",
       "      <td>5000.0</td>\n",
       "      <td>0</td>\n",
       "    </tr>\n",
       "    <tr>\n",
       "      <th>3</th>\n",
       "      <td>4</td>\n",
       "      <td>50000.0</td>\n",
       "      <td>2</td>\n",
       "      <td>2</td>\n",
       "      <td>1</td>\n",
       "      <td>37</td>\n",
       "      <td>0</td>\n",
       "      <td>0</td>\n",
       "      <td>0</td>\n",
       "      <td>0</td>\n",
       "      <td>...</td>\n",
       "      <td>28314.0</td>\n",
       "      <td>28959.0</td>\n",
       "      <td>29547.0</td>\n",
       "      <td>2000.0</td>\n",
       "      <td>2019.0</td>\n",
       "      <td>1200.0</td>\n",
       "      <td>1100.0</td>\n",
       "      <td>1069.0</td>\n",
       "      <td>1000.0</td>\n",
       "      <td>0</td>\n",
       "    </tr>\n",
       "    <tr>\n",
       "      <th>4</th>\n",
       "      <td>5</td>\n",
       "      <td>50000.0</td>\n",
       "      <td>1</td>\n",
       "      <td>2</td>\n",
       "      <td>1</td>\n",
       "      <td>57</td>\n",
       "      <td>-1</td>\n",
       "      <td>0</td>\n",
       "      <td>-1</td>\n",
       "      <td>0</td>\n",
       "      <td>...</td>\n",
       "      <td>20940.0</td>\n",
       "      <td>19146.0</td>\n",
       "      <td>19131.0</td>\n",
       "      <td>2000.0</td>\n",
       "      <td>36681.0</td>\n",
       "      <td>10000.0</td>\n",
       "      <td>9000.0</td>\n",
       "      <td>689.0</td>\n",
       "      <td>679.0</td>\n",
       "      <td>0</td>\n",
       "    </tr>\n",
       "    <tr>\n",
       "      <th>...</th>\n",
       "      <td>...</td>\n",
       "      <td>...</td>\n",
       "      <td>...</td>\n",
       "      <td>...</td>\n",
       "      <td>...</td>\n",
       "      <td>...</td>\n",
       "      <td>...</td>\n",
       "      <td>...</td>\n",
       "      <td>...</td>\n",
       "      <td>...</td>\n",
       "      <td>...</td>\n",
       "      <td>...</td>\n",
       "      <td>...</td>\n",
       "      <td>...</td>\n",
       "      <td>...</td>\n",
       "      <td>...</td>\n",
       "      <td>...</td>\n",
       "      <td>...</td>\n",
       "      <td>...</td>\n",
       "      <td>...</td>\n",
       "      <td>...</td>\n",
       "    </tr>\n",
       "    <tr>\n",
       "      <th>29995</th>\n",
       "      <td>29996</td>\n",
       "      <td>220000.0</td>\n",
       "      <td>1</td>\n",
       "      <td>3</td>\n",
       "      <td>1</td>\n",
       "      <td>39</td>\n",
       "      <td>0</td>\n",
       "      <td>0</td>\n",
       "      <td>0</td>\n",
       "      <td>0</td>\n",
       "      <td>...</td>\n",
       "      <td>88004.0</td>\n",
       "      <td>31237.0</td>\n",
       "      <td>15980.0</td>\n",
       "      <td>8500.0</td>\n",
       "      <td>20000.0</td>\n",
       "      <td>5003.0</td>\n",
       "      <td>3047.0</td>\n",
       "      <td>5000.0</td>\n",
       "      <td>1000.0</td>\n",
       "      <td>0</td>\n",
       "    </tr>\n",
       "    <tr>\n",
       "      <th>29996</th>\n",
       "      <td>29997</td>\n",
       "      <td>150000.0</td>\n",
       "      <td>1</td>\n",
       "      <td>3</td>\n",
       "      <td>2</td>\n",
       "      <td>43</td>\n",
       "      <td>-1</td>\n",
       "      <td>-1</td>\n",
       "      <td>-1</td>\n",
       "      <td>-1</td>\n",
       "      <td>...</td>\n",
       "      <td>8979.0</td>\n",
       "      <td>5190.0</td>\n",
       "      <td>0.0</td>\n",
       "      <td>1837.0</td>\n",
       "      <td>3526.0</td>\n",
       "      <td>8998.0</td>\n",
       "      <td>129.0</td>\n",
       "      <td>0.0</td>\n",
       "      <td>0.0</td>\n",
       "      <td>0</td>\n",
       "    </tr>\n",
       "    <tr>\n",
       "      <th>29997</th>\n",
       "      <td>29998</td>\n",
       "      <td>30000.0</td>\n",
       "      <td>1</td>\n",
       "      <td>2</td>\n",
       "      <td>2</td>\n",
       "      <td>37</td>\n",
       "      <td>4</td>\n",
       "      <td>3</td>\n",
       "      <td>2</td>\n",
       "      <td>-1</td>\n",
       "      <td>...</td>\n",
       "      <td>20878.0</td>\n",
       "      <td>20582.0</td>\n",
       "      <td>19357.0</td>\n",
       "      <td>0.0</td>\n",
       "      <td>0.0</td>\n",
       "      <td>22000.0</td>\n",
       "      <td>4200.0</td>\n",
       "      <td>2000.0</td>\n",
       "      <td>3100.0</td>\n",
       "      <td>1</td>\n",
       "    </tr>\n",
       "    <tr>\n",
       "      <th>29998</th>\n",
       "      <td>29999</td>\n",
       "      <td>80000.0</td>\n",
       "      <td>1</td>\n",
       "      <td>3</td>\n",
       "      <td>1</td>\n",
       "      <td>41</td>\n",
       "      <td>1</td>\n",
       "      <td>-1</td>\n",
       "      <td>0</td>\n",
       "      <td>0</td>\n",
       "      <td>...</td>\n",
       "      <td>52774.0</td>\n",
       "      <td>11855.0</td>\n",
       "      <td>48944.0</td>\n",
       "      <td>85900.0</td>\n",
       "      <td>3409.0</td>\n",
       "      <td>1178.0</td>\n",
       "      <td>1926.0</td>\n",
       "      <td>52964.0</td>\n",
       "      <td>1804.0</td>\n",
       "      <td>1</td>\n",
       "    </tr>\n",
       "    <tr>\n",
       "      <th>29999</th>\n",
       "      <td>30000</td>\n",
       "      <td>50000.0</td>\n",
       "      <td>1</td>\n",
       "      <td>2</td>\n",
       "      <td>1</td>\n",
       "      <td>46</td>\n",
       "      <td>0</td>\n",
       "      <td>0</td>\n",
       "      <td>0</td>\n",
       "      <td>0</td>\n",
       "      <td>...</td>\n",
       "      <td>36535.0</td>\n",
       "      <td>32428.0</td>\n",
       "      <td>15313.0</td>\n",
       "      <td>2078.0</td>\n",
       "      <td>1800.0</td>\n",
       "      <td>1430.0</td>\n",
       "      <td>1000.0</td>\n",
       "      <td>1000.0</td>\n",
       "      <td>1000.0</td>\n",
       "      <td>1</td>\n",
       "    </tr>\n",
       "  </tbody>\n",
       "</table>\n",
       "<p>30000 rows × 25 columns</p>\n",
       "</div>"
      ],
      "text/plain": [
       "          ID  LIMIT_BAL  SEX  EDUCATION  MARRIAGE  AGE  PAY_0  PAY_2  PAY_3  \\\n",
       "0          1    20000.0    2          2         1   24      2      2     -1   \n",
       "1          2   120000.0    2          2         2   26     -1      2      0   \n",
       "2          3    90000.0    2          2         2   34      0      0      0   \n",
       "3          4    50000.0    2          2         1   37      0      0      0   \n",
       "4          5    50000.0    1          2         1   57     -1      0     -1   \n",
       "...      ...        ...  ...        ...       ...  ...    ...    ...    ...   \n",
       "29995  29996   220000.0    1          3         1   39      0      0      0   \n",
       "29996  29997   150000.0    1          3         2   43     -1     -1     -1   \n",
       "29997  29998    30000.0    1          2         2   37      4      3      2   \n",
       "29998  29999    80000.0    1          3         1   41      1     -1      0   \n",
       "29999  30000    50000.0    1          2         1   46      0      0      0   \n",
       "\n",
       "       PAY_4  ...  BILL_AMT4  BILL_AMT5  BILL_AMT6  PAY_AMT1  PAY_AMT2  \\\n",
       "0         -1  ...        0.0        0.0        0.0       0.0     689.0   \n",
       "1          0  ...     3272.0     3455.0     3261.0       0.0    1000.0   \n",
       "2          0  ...    14331.0    14948.0    15549.0    1518.0    1500.0   \n",
       "3          0  ...    28314.0    28959.0    29547.0    2000.0    2019.0   \n",
       "4          0  ...    20940.0    19146.0    19131.0    2000.0   36681.0   \n",
       "...      ...  ...        ...        ...        ...       ...       ...   \n",
       "29995      0  ...    88004.0    31237.0    15980.0    8500.0   20000.0   \n",
       "29996     -1  ...     8979.0     5190.0        0.0    1837.0    3526.0   \n",
       "29997     -1  ...    20878.0    20582.0    19357.0       0.0       0.0   \n",
       "29998      0  ...    52774.0    11855.0    48944.0   85900.0    3409.0   \n",
       "29999      0  ...    36535.0    32428.0    15313.0    2078.0    1800.0   \n",
       "\n",
       "       PAY_AMT3  PAY_AMT4  PAY_AMT5  PAY_AMT6  default.payment.next.month  \n",
       "0           0.0       0.0       0.0       0.0                           1  \n",
       "1        1000.0    1000.0       0.0    2000.0                           1  \n",
       "2        1000.0    1000.0    1000.0    5000.0                           0  \n",
       "3        1200.0    1100.0    1069.0    1000.0                           0  \n",
       "4       10000.0    9000.0     689.0     679.0                           0  \n",
       "...         ...       ...       ...       ...                         ...  \n",
       "29995    5003.0    3047.0    5000.0    1000.0                           0  \n",
       "29996    8998.0     129.0       0.0       0.0                           0  \n",
       "29997   22000.0    4200.0    2000.0    3100.0                           1  \n",
       "29998    1178.0    1926.0   52964.0    1804.0                           1  \n",
       "29999    1430.0    1000.0    1000.0    1000.0                           1  \n",
       "\n",
       "[30000 rows x 25 columns]"
      ]
     },
     "execution_count": 1,
     "metadata": {},
     "output_type": "execute_result"
    }
   ],
   "source": [
    "import numpy as np\n",
    "import pandas as pd\n",
    "import seaborn as sns\n",
    "import matplotlib.pyplot as plt\n",
    "df=pd.read_csv(\"C:\\\\Users\\\\subha\\\\Downloads\\\\Credit card default\\\\Uci_Credit_card.csv\")\n",
    "df"
   ]
  },
  {
   "cell_type": "code",
   "execution_count": 2,
   "metadata": {
    "scrolled": false
   },
   "outputs": [
    {
     "data": {
      "text/html": [
       "<div>\n",
       "<style scoped>\n",
       "    .dataframe tbody tr th:only-of-type {\n",
       "        vertical-align: middle;\n",
       "    }\n",
       "\n",
       "    .dataframe tbody tr th {\n",
       "        vertical-align: top;\n",
       "    }\n",
       "\n",
       "    .dataframe thead th {\n",
       "        text-align: right;\n",
       "    }\n",
       "</style>\n",
       "<table border=\"1\" class=\"dataframe\">\n",
       "  <thead>\n",
       "    <tr style=\"text-align: right;\">\n",
       "      <th></th>\n",
       "      <th>LIMIT_BAL</th>\n",
       "      <th>SEX</th>\n",
       "      <th>EDUCATION</th>\n",
       "      <th>MARRIAGE</th>\n",
       "      <th>AGE</th>\n",
       "      <th>PAY_0</th>\n",
       "      <th>PAY_2</th>\n",
       "      <th>PAY_3</th>\n",
       "      <th>PAY_4</th>\n",
       "      <th>PAY_5</th>\n",
       "      <th>...</th>\n",
       "      <th>BILL_AMT4</th>\n",
       "      <th>BILL_AMT5</th>\n",
       "      <th>BILL_AMT6</th>\n",
       "      <th>PAY_AMT1</th>\n",
       "      <th>PAY_AMT2</th>\n",
       "      <th>PAY_AMT3</th>\n",
       "      <th>PAY_AMT4</th>\n",
       "      <th>PAY_AMT5</th>\n",
       "      <th>PAY_AMT6</th>\n",
       "      <th>default.payment.next.month</th>\n",
       "    </tr>\n",
       "  </thead>\n",
       "  <tbody>\n",
       "    <tr>\n",
       "      <th>0</th>\n",
       "      <td>20000.0</td>\n",
       "      <td>2</td>\n",
       "      <td>2</td>\n",
       "      <td>1</td>\n",
       "      <td>24</td>\n",
       "      <td>2</td>\n",
       "      <td>2</td>\n",
       "      <td>-1</td>\n",
       "      <td>-1</td>\n",
       "      <td>-2</td>\n",
       "      <td>...</td>\n",
       "      <td>0.0</td>\n",
       "      <td>0.0</td>\n",
       "      <td>0.0</td>\n",
       "      <td>0.0</td>\n",
       "      <td>689.0</td>\n",
       "      <td>0.0</td>\n",
       "      <td>0.0</td>\n",
       "      <td>0.0</td>\n",
       "      <td>0.0</td>\n",
       "      <td>1</td>\n",
       "    </tr>\n",
       "    <tr>\n",
       "      <th>1</th>\n",
       "      <td>120000.0</td>\n",
       "      <td>2</td>\n",
       "      <td>2</td>\n",
       "      <td>2</td>\n",
       "      <td>26</td>\n",
       "      <td>-1</td>\n",
       "      <td>2</td>\n",
       "      <td>0</td>\n",
       "      <td>0</td>\n",
       "      <td>0</td>\n",
       "      <td>...</td>\n",
       "      <td>3272.0</td>\n",
       "      <td>3455.0</td>\n",
       "      <td>3261.0</td>\n",
       "      <td>0.0</td>\n",
       "      <td>1000.0</td>\n",
       "      <td>1000.0</td>\n",
       "      <td>1000.0</td>\n",
       "      <td>0.0</td>\n",
       "      <td>2000.0</td>\n",
       "      <td>1</td>\n",
       "    </tr>\n",
       "    <tr>\n",
       "      <th>2</th>\n",
       "      <td>90000.0</td>\n",
       "      <td>2</td>\n",
       "      <td>2</td>\n",
       "      <td>2</td>\n",
       "      <td>34</td>\n",
       "      <td>0</td>\n",
       "      <td>0</td>\n",
       "      <td>0</td>\n",
       "      <td>0</td>\n",
       "      <td>0</td>\n",
       "      <td>...</td>\n",
       "      <td>14331.0</td>\n",
       "      <td>14948.0</td>\n",
       "      <td>15549.0</td>\n",
       "      <td>1518.0</td>\n",
       "      <td>1500.0</td>\n",
       "      <td>1000.0</td>\n",
       "      <td>1000.0</td>\n",
       "      <td>1000.0</td>\n",
       "      <td>5000.0</td>\n",
       "      <td>0</td>\n",
       "    </tr>\n",
       "    <tr>\n",
       "      <th>3</th>\n",
       "      <td>50000.0</td>\n",
       "      <td>2</td>\n",
       "      <td>2</td>\n",
       "      <td>1</td>\n",
       "      <td>37</td>\n",
       "      <td>0</td>\n",
       "      <td>0</td>\n",
       "      <td>0</td>\n",
       "      <td>0</td>\n",
       "      <td>0</td>\n",
       "      <td>...</td>\n",
       "      <td>28314.0</td>\n",
       "      <td>28959.0</td>\n",
       "      <td>29547.0</td>\n",
       "      <td>2000.0</td>\n",
       "      <td>2019.0</td>\n",
       "      <td>1200.0</td>\n",
       "      <td>1100.0</td>\n",
       "      <td>1069.0</td>\n",
       "      <td>1000.0</td>\n",
       "      <td>0</td>\n",
       "    </tr>\n",
       "    <tr>\n",
       "      <th>4</th>\n",
       "      <td>50000.0</td>\n",
       "      <td>1</td>\n",
       "      <td>2</td>\n",
       "      <td>1</td>\n",
       "      <td>57</td>\n",
       "      <td>-1</td>\n",
       "      <td>0</td>\n",
       "      <td>-1</td>\n",
       "      <td>0</td>\n",
       "      <td>0</td>\n",
       "      <td>...</td>\n",
       "      <td>20940.0</td>\n",
       "      <td>19146.0</td>\n",
       "      <td>19131.0</td>\n",
       "      <td>2000.0</td>\n",
       "      <td>36681.0</td>\n",
       "      <td>10000.0</td>\n",
       "      <td>9000.0</td>\n",
       "      <td>689.0</td>\n",
       "      <td>679.0</td>\n",
       "      <td>0</td>\n",
       "    </tr>\n",
       "    <tr>\n",
       "      <th>...</th>\n",
       "      <td>...</td>\n",
       "      <td>...</td>\n",
       "      <td>...</td>\n",
       "      <td>...</td>\n",
       "      <td>...</td>\n",
       "      <td>...</td>\n",
       "      <td>...</td>\n",
       "      <td>...</td>\n",
       "      <td>...</td>\n",
       "      <td>...</td>\n",
       "      <td>...</td>\n",
       "      <td>...</td>\n",
       "      <td>...</td>\n",
       "      <td>...</td>\n",
       "      <td>...</td>\n",
       "      <td>...</td>\n",
       "      <td>...</td>\n",
       "      <td>...</td>\n",
       "      <td>...</td>\n",
       "      <td>...</td>\n",
       "      <td>...</td>\n",
       "    </tr>\n",
       "    <tr>\n",
       "      <th>29995</th>\n",
       "      <td>220000.0</td>\n",
       "      <td>1</td>\n",
       "      <td>3</td>\n",
       "      <td>1</td>\n",
       "      <td>39</td>\n",
       "      <td>0</td>\n",
       "      <td>0</td>\n",
       "      <td>0</td>\n",
       "      <td>0</td>\n",
       "      <td>0</td>\n",
       "      <td>...</td>\n",
       "      <td>88004.0</td>\n",
       "      <td>31237.0</td>\n",
       "      <td>15980.0</td>\n",
       "      <td>8500.0</td>\n",
       "      <td>20000.0</td>\n",
       "      <td>5003.0</td>\n",
       "      <td>3047.0</td>\n",
       "      <td>5000.0</td>\n",
       "      <td>1000.0</td>\n",
       "      <td>0</td>\n",
       "    </tr>\n",
       "    <tr>\n",
       "      <th>29996</th>\n",
       "      <td>150000.0</td>\n",
       "      <td>1</td>\n",
       "      <td>3</td>\n",
       "      <td>2</td>\n",
       "      <td>43</td>\n",
       "      <td>-1</td>\n",
       "      <td>-1</td>\n",
       "      <td>-1</td>\n",
       "      <td>-1</td>\n",
       "      <td>0</td>\n",
       "      <td>...</td>\n",
       "      <td>8979.0</td>\n",
       "      <td>5190.0</td>\n",
       "      <td>0.0</td>\n",
       "      <td>1837.0</td>\n",
       "      <td>3526.0</td>\n",
       "      <td>8998.0</td>\n",
       "      <td>129.0</td>\n",
       "      <td>0.0</td>\n",
       "      <td>0.0</td>\n",
       "      <td>0</td>\n",
       "    </tr>\n",
       "    <tr>\n",
       "      <th>29997</th>\n",
       "      <td>30000.0</td>\n",
       "      <td>1</td>\n",
       "      <td>2</td>\n",
       "      <td>2</td>\n",
       "      <td>37</td>\n",
       "      <td>4</td>\n",
       "      <td>3</td>\n",
       "      <td>2</td>\n",
       "      <td>-1</td>\n",
       "      <td>0</td>\n",
       "      <td>...</td>\n",
       "      <td>20878.0</td>\n",
       "      <td>20582.0</td>\n",
       "      <td>19357.0</td>\n",
       "      <td>0.0</td>\n",
       "      <td>0.0</td>\n",
       "      <td>22000.0</td>\n",
       "      <td>4200.0</td>\n",
       "      <td>2000.0</td>\n",
       "      <td>3100.0</td>\n",
       "      <td>1</td>\n",
       "    </tr>\n",
       "    <tr>\n",
       "      <th>29998</th>\n",
       "      <td>80000.0</td>\n",
       "      <td>1</td>\n",
       "      <td>3</td>\n",
       "      <td>1</td>\n",
       "      <td>41</td>\n",
       "      <td>1</td>\n",
       "      <td>-1</td>\n",
       "      <td>0</td>\n",
       "      <td>0</td>\n",
       "      <td>0</td>\n",
       "      <td>...</td>\n",
       "      <td>52774.0</td>\n",
       "      <td>11855.0</td>\n",
       "      <td>48944.0</td>\n",
       "      <td>85900.0</td>\n",
       "      <td>3409.0</td>\n",
       "      <td>1178.0</td>\n",
       "      <td>1926.0</td>\n",
       "      <td>52964.0</td>\n",
       "      <td>1804.0</td>\n",
       "      <td>1</td>\n",
       "    </tr>\n",
       "    <tr>\n",
       "      <th>29999</th>\n",
       "      <td>50000.0</td>\n",
       "      <td>1</td>\n",
       "      <td>2</td>\n",
       "      <td>1</td>\n",
       "      <td>46</td>\n",
       "      <td>0</td>\n",
       "      <td>0</td>\n",
       "      <td>0</td>\n",
       "      <td>0</td>\n",
       "      <td>0</td>\n",
       "      <td>...</td>\n",
       "      <td>36535.0</td>\n",
       "      <td>32428.0</td>\n",
       "      <td>15313.0</td>\n",
       "      <td>2078.0</td>\n",
       "      <td>1800.0</td>\n",
       "      <td>1430.0</td>\n",
       "      <td>1000.0</td>\n",
       "      <td>1000.0</td>\n",
       "      <td>1000.0</td>\n",
       "      <td>1</td>\n",
       "    </tr>\n",
       "  </tbody>\n",
       "</table>\n",
       "<p>30000 rows × 24 columns</p>\n",
       "</div>"
      ],
      "text/plain": [
       "       LIMIT_BAL  SEX  EDUCATION  MARRIAGE  AGE  PAY_0  PAY_2  PAY_3  PAY_4  \\\n",
       "0        20000.0    2          2         1   24      2      2     -1     -1   \n",
       "1       120000.0    2          2         2   26     -1      2      0      0   \n",
       "2        90000.0    2          2         2   34      0      0      0      0   \n",
       "3        50000.0    2          2         1   37      0      0      0      0   \n",
       "4        50000.0    1          2         1   57     -1      0     -1      0   \n",
       "...          ...  ...        ...       ...  ...    ...    ...    ...    ...   \n",
       "29995   220000.0    1          3         1   39      0      0      0      0   \n",
       "29996   150000.0    1          3         2   43     -1     -1     -1     -1   \n",
       "29997    30000.0    1          2         2   37      4      3      2     -1   \n",
       "29998    80000.0    1          3         1   41      1     -1      0      0   \n",
       "29999    50000.0    1          2         1   46      0      0      0      0   \n",
       "\n",
       "       PAY_5  ...  BILL_AMT4  BILL_AMT5  BILL_AMT6  PAY_AMT1  PAY_AMT2  \\\n",
       "0         -2  ...        0.0        0.0        0.0       0.0     689.0   \n",
       "1          0  ...     3272.0     3455.0     3261.0       0.0    1000.0   \n",
       "2          0  ...    14331.0    14948.0    15549.0    1518.0    1500.0   \n",
       "3          0  ...    28314.0    28959.0    29547.0    2000.0    2019.0   \n",
       "4          0  ...    20940.0    19146.0    19131.0    2000.0   36681.0   \n",
       "...      ...  ...        ...        ...        ...       ...       ...   \n",
       "29995      0  ...    88004.0    31237.0    15980.0    8500.0   20000.0   \n",
       "29996      0  ...     8979.0     5190.0        0.0    1837.0    3526.0   \n",
       "29997      0  ...    20878.0    20582.0    19357.0       0.0       0.0   \n",
       "29998      0  ...    52774.0    11855.0    48944.0   85900.0    3409.0   \n",
       "29999      0  ...    36535.0    32428.0    15313.0    2078.0    1800.0   \n",
       "\n",
       "       PAY_AMT3  PAY_AMT4  PAY_AMT5  PAY_AMT6  default.payment.next.month  \n",
       "0           0.0       0.0       0.0       0.0                           1  \n",
       "1        1000.0    1000.0       0.0    2000.0                           1  \n",
       "2        1000.0    1000.0    1000.0    5000.0                           0  \n",
       "3        1200.0    1100.0    1069.0    1000.0                           0  \n",
       "4       10000.0    9000.0     689.0     679.0                           0  \n",
       "...         ...       ...       ...       ...                         ...  \n",
       "29995    5003.0    3047.0    5000.0    1000.0                           0  \n",
       "29996    8998.0     129.0       0.0       0.0                           0  \n",
       "29997   22000.0    4200.0    2000.0    3100.0                           1  \n",
       "29998    1178.0    1926.0   52964.0    1804.0                           1  \n",
       "29999    1430.0    1000.0    1000.0    1000.0                           1  \n",
       "\n",
       "[30000 rows x 24 columns]"
      ]
     },
     "execution_count": 2,
     "metadata": {},
     "output_type": "execute_result"
    }
   ],
   "source": [
    "df.drop(\"ID\",axis=1,inplace=True)\n",
    "df"
   ]
  },
  {
   "cell_type": "markdown",
   "metadata": {},
   "source": [
    "## Checking the dataset is balance or not"
   ]
  },
  {
   "cell_type": "code",
   "execution_count": 3,
   "metadata": {},
   "outputs": [
    {
     "data": {
      "text/plain": [
       "<AxesSubplot:xlabel='default.payment.next.month', ylabel='count'>"
      ]
     },
     "execution_count": 3,
     "metadata": {},
     "output_type": "execute_result"
    },
    {
     "data": {
      "image/png": "[encoded data removed]",
      "text/plain": [
       "<Figure size 432x288 with 1 Axes>"
      ]
     },
     "metadata": {
      "needs_background": "light"
     },
     "output_type": "display_data"
    }
   ],
   "source": [
    "sns.countplot(x=\"default.payment.next.month\",data=df)"
   ]
  },
  {
   "cell_type": "markdown",
   "metadata": {},
   "source": [
    "So the dataset is imbalance with maximum element as 0 that mean maximum people are not default.\n",
    "\n",
    "we have to balance it before we perform the machine learning model "
   ]
  },
  {
   "cell_type": "markdown",
   "metadata": {},
   "source": [
    "### Checking how many null values are there in the dataset"
   ]
  },
  {
   "cell_type": "code",
   "execution_count": 4,
   "metadata": {},
   "outputs": [
    {
     "name": "stdout",
     "output_type": "stream",
     "text": [
      "<class 'pandas.core.frame.DataFrame'>\n",
      "RangeIndex: 30000 entries, 0 to 29999\n",
      "Data columns (total 24 columns):\n",
      " #   Column                      Non-Null Count  Dtype  \n",
      "---  ------                      --------------  -----  \n",
      " 0   LIMIT_BAL                   30000 non-null  float64\n",
      " 1   SEX                         30000 non-null  int64  \n",
      " 2   EDUCATION                   30000 non-null  int64  \n",
      " 3   MARRIAGE                    30000 non-null  int64  \n",
      " 4   AGE                         30000 non-null  int64  \n",
      " 5   PAY_0                       30000 non-null  int64  \n",
      " 6   PAY_2                       30000 non-null  int64  \n",
      " 7   PAY_3                       30000 non-null  int64  \n",
      " 8   PAY_4                       30000 non-null  int64  \n",
      " 9   PAY_5                       30000 non-null  int64  \n",
      " 10  PAY_6                       30000 non-null  int64  \n",
      " 11  BILL_AMT1                   30000 non-null  float64\n",
      " 12  BILL_AMT2                   30000 non-null  float64\n",
      " 13  BILL_AMT3                   30000 non-null  float64\n",
      " 14  BILL_AMT4                   30000 non-null  float64\n",
      " 15  BILL_AMT5                   30000 non-null  float64\n",
      " 16  BILL_AMT6                   30000 non-null  float64\n",
      " 17  PAY_AMT1                    30000 non-null  float64\n",
      " 18  PAY_AMT2                    30000 non-null  float64\n",
      " 19  PAY_AMT3                    30000 non-null  float64\n",
      " 20  PAY_AMT4                    30000 non-null  float64\n",
      " 21  PAY_AMT5                    30000 non-null  float64\n",
      " 22  PAY_AMT6                    30000 non-null  float64\n",
      " 23  default.payment.next.month  30000 non-null  int64  \n",
      "dtypes: float64(13), int64(11)\n",
      "memory usage: 5.5 MB\n"
     ]
    }
   ],
   "source": [
    "df.info()"
   ]
  },
  {
   "cell_type": "markdown",
   "metadata": {},
   "source": [
    "**so there is no null values in the dataset**."
   ]
  },
  {
   "cell_type": "code",
   "execution_count": 5,
   "metadata": {},
   "outputs": [
    {
     "data": {
      "text/plain": [
       "<AxesSubplot:xlabel='SEX', ylabel='default.payment.next.month'>"
      ]
     },
     "execution_count": 5,
     "metadata": {},
     "output_type": "execute_result"
    },
    {
     "data": {
      "image/png": "[encoded data removed]",
      "text/plain": [
       "<Figure size 432x288 with 1 Axes>"
      ]
     },
     "metadata": {
      "needs_background": "light"
     },
     "output_type": "display_data"
    }
   ],
   "source": [
    "import matplotlib.pyplot as plt\n",
    "import seaborn as sns\n",
    "sns.barplot(x=\"SEX\",y=\"default.payment.next.month\",data=df)"
   ]
  },
  {
   "cell_type": "code",
   "execution_count": 6,
   "metadata": {},
   "outputs": [
    {
     "data": {
      "text/plain": [
       "<AxesSubplot:xlabel='EDUCATION', ylabel='default.payment.next.month'>"
      ]
     },
     "execution_count": 6,
     "metadata": {},
     "output_type": "execute_result"
    },
    {
     "data": {
      "image/png": "[encoded data removed]",
      "text/plain": [
       "<Figure size 432x288 with 1 Axes>"
      ]
     },
     "metadata": {
      "needs_background": "light"
     },
     "output_type": "display_data"
    }
   ],
   "source": [
    "sns.barplot(x=\"EDUCATION\",y=\"default.payment.next.month\",data=df)"
   ]
  },
  {
   "cell_type": "markdown",
   "metadata": {},
   "source": [
    "So  it seems like education have something to do with the default"
   ]
  },
  {
   "cell_type": "code",
   "execution_count": 7,
   "metadata": {},
   "outputs": [
    {
     "data": {
      "text/plain": [
       "<AxesSubplot:xlabel='MARRIAGE', ylabel='default.payment.next.month'>"
      ]
     },
     "execution_count": 7,
     "metadata": {},
     "output_type": "execute_result"
    },
    {
     "data": {
      "image/png": "[encoded data removed]",
      "text/plain": [
       "<Figure size 432x288 with 1 Axes>"
      ]
     },
     "metadata": {
      "needs_background": "light"
     },
     "output_type": "display_data"
    }
   ],
   "source": [
    "sns.barplot(x=\"MARRIAGE\",y=\"default.payment.next.month\",data=df)"
   ]
  },
  {
   "cell_type": "code",
   "execution_count": 15,
   "metadata": {},
   "outputs": [
    {
     "data": {
      "image/png": "[encoded data removed]",
      "text/plain": [
       "<Figure size 1440x1440 with 1 Axes>"
      ]
     },
     "metadata": {
      "needs_background": "light"
     },
     "output_type": "display_data"
    }
   ],
   "source": [
    "plt.figure(figsize=(20,20))\n",
    "sns.barplot(x=\"AGE\",y=\"default.payment.next.month\",data=df)\n",
    "plt.xticks(rotation=90)\n",
    "plt.show()"
   ]
  },
  {
   "cell_type": "code",
   "execution_count": 10,
   "metadata": {},
   "outputs": [
    {
     "data": {
      "text/plain": [
       "56"
      ]
     },
     "execution_count": 10,
     "metadata": {},
     "output_type": "execute_result"
    }
   ],
   "source": [
    "len(df.AGE.unique())"
   ]
  },
  {
   "cell_type": "code",
   "execution_count": 11,
   "metadata": {},
   "outputs": [
    {
     "data": {
      "text/html": [
       "<div>\n",
       "<style scoped>\n",
       "    .dataframe tbody tr th:only-of-type {\n",
       "        vertical-align: middle;\n",
       "    }\n",
       "\n",
       "    .dataframe tbody tr th {\n",
       "        vertical-align: top;\n",
       "    }\n",
       "\n",
       "    .dataframe thead th {\n",
       "        text-align: right;\n",
       "    }\n",
       "</style>\n",
       "<table border=\"1\" class=\"dataframe\">\n",
       "  <thead>\n",
       "    <tr style=\"text-align: right;\">\n",
       "      <th></th>\n",
       "      <th>LIMIT_BAL</th>\n",
       "      <th>SEX</th>\n",
       "      <th>EDUCATION</th>\n",
       "      <th>MARRIAGE</th>\n",
       "      <th>AGE</th>\n",
       "      <th>PAY_0</th>\n",
       "      <th>PAY_2</th>\n",
       "      <th>PAY_3</th>\n",
       "      <th>PAY_4</th>\n",
       "      <th>PAY_5</th>\n",
       "      <th>...</th>\n",
       "      <th>BILL_AMT4</th>\n",
       "      <th>BILL_AMT5</th>\n",
       "      <th>BILL_AMT6</th>\n",
       "      <th>PAY_AMT1</th>\n",
       "      <th>PAY_AMT2</th>\n",
       "      <th>PAY_AMT3</th>\n",
       "      <th>PAY_AMT4</th>\n",
       "      <th>PAY_AMT5</th>\n",
       "      <th>PAY_AMT6</th>\n",
       "      <th>default.payment.next.month</th>\n",
       "    </tr>\n",
       "  </thead>\n",
       "  <tbody>\n",
       "    <tr>\n",
       "      <th>LIMIT_BAL</th>\n",
       "      <td>1.000000</td>\n",
       "      <td>0.024755</td>\n",
       "      <td>-0.219161</td>\n",
       "      <td>-0.108139</td>\n",
       "      <td>0.144713</td>\n",
       "      <td>-0.271214</td>\n",
       "      <td>-0.296382</td>\n",
       "      <td>-0.286123</td>\n",
       "      <td>-0.267460</td>\n",
       "      <td>-0.249411</td>\n",
       "      <td>...</td>\n",
       "      <td>0.293988</td>\n",
       "      <td>0.295562</td>\n",
       "      <td>0.290389</td>\n",
       "      <td>0.195236</td>\n",
       "      <td>0.178408</td>\n",
       "      <td>0.210167</td>\n",
       "      <td>0.203242</td>\n",
       "      <td>0.217202</td>\n",
       "      <td>0.219595</td>\n",
       "      <td>-0.153520</td>\n",
       "    </tr>\n",
       "    <tr>\n",
       "      <th>SEX</th>\n",
       "      <td>0.024755</td>\n",
       "      <td>1.000000</td>\n",
       "      <td>0.014232</td>\n",
       "      <td>-0.031389</td>\n",
       "      <td>-0.090874</td>\n",
       "      <td>-0.057643</td>\n",
       "      <td>-0.070771</td>\n",
       "      <td>-0.066096</td>\n",
       "      <td>-0.060173</td>\n",
       "      <td>-0.055064</td>\n",
       "      <td>...</td>\n",
       "      <td>-0.021880</td>\n",
       "      <td>-0.017005</td>\n",
       "      <td>-0.016733</td>\n",
       "      <td>-0.000242</td>\n",
       "      <td>-0.001391</td>\n",
       "      <td>-0.008597</td>\n",
       "      <td>-0.002229</td>\n",
       "      <td>-0.001667</td>\n",
       "      <td>-0.002766</td>\n",
       "      <td>-0.039961</td>\n",
       "    </tr>\n",
       "    <tr>\n",
       "      <th>EDUCATION</th>\n",
       "      <td>-0.219161</td>\n",
       "      <td>0.014232</td>\n",
       "      <td>1.000000</td>\n",
       "      <td>-0.143464</td>\n",
       "      <td>0.175061</td>\n",
       "      <td>0.105364</td>\n",
       "      <td>0.121566</td>\n",
       "      <td>0.114025</td>\n",
       "      <td>0.108793</td>\n",
       "      <td>0.097520</td>\n",
       "      <td>...</td>\n",
       "      <td>-0.000451</td>\n",
       "      <td>-0.007567</td>\n",
       "      <td>-0.009099</td>\n",
       "      <td>-0.037456</td>\n",
       "      <td>-0.030038</td>\n",
       "      <td>-0.039943</td>\n",
       "      <td>-0.038218</td>\n",
       "      <td>-0.040358</td>\n",
       "      <td>-0.037200</td>\n",
       "      <td>0.028006</td>\n",
       "    </tr>\n",
       "    <tr>\n",
       "      <th>MARRIAGE</th>\n",
       "      <td>-0.108139</td>\n",
       "      <td>-0.031389</td>\n",
       "      <td>-0.143464</td>\n",
       "      <td>1.000000</td>\n",
       "      <td>-0.414170</td>\n",
       "      <td>0.019917</td>\n",
       "      <td>0.024199</td>\n",
       "      <td>0.032688</td>\n",
       "      <td>0.033122</td>\n",
       "      <td>0.035629</td>\n",
       "      <td>...</td>\n",
       "      <td>-0.023344</td>\n",
       "      <td>-0.025393</td>\n",
       "      <td>-0.021207</td>\n",
       "      <td>-0.005979</td>\n",
       "      <td>-0.008093</td>\n",
       "      <td>-0.003541</td>\n",
       "      <td>-0.012659</td>\n",
       "      <td>-0.001205</td>\n",
       "      <td>-0.006641</td>\n",
       "      <td>-0.024339</td>\n",
       "    </tr>\n",
       "    <tr>\n",
       "      <th>AGE</th>\n",
       "      <td>0.144713</td>\n",
       "      <td>-0.090874</td>\n",
       "      <td>0.175061</td>\n",
       "      <td>-0.414170</td>\n",
       "      <td>1.000000</td>\n",
       "      <td>-0.039447</td>\n",
       "      <td>-0.050148</td>\n",
       "      <td>-0.053048</td>\n",
       "      <td>-0.049722</td>\n",
       "      <td>-0.053826</td>\n",
       "      <td>...</td>\n",
       "      <td>0.051353</td>\n",
       "      <td>0.049345</td>\n",
       "      <td>0.047613</td>\n",
       "      <td>0.026147</td>\n",
       "      <td>0.021785</td>\n",
       "      <td>0.029247</td>\n",
       "      <td>0.021379</td>\n",
       "      <td>0.022850</td>\n",
       "      <td>0.019478</td>\n",
       "      <td>0.013890</td>\n",
       "    </tr>\n",
       "    <tr>\n",
       "      <th>PAY_0</th>\n",
       "      <td>-0.271214</td>\n",
       "      <td>-0.057643</td>\n",
       "      <td>0.105364</td>\n",
       "      <td>0.019917</td>\n",
       "      <td>-0.039447</td>\n",
       "      <td>1.000000</td>\n",
       "      <td>0.672164</td>\n",
       "      <td>0.574245</td>\n",
       "      <td>0.538841</td>\n",
       "      <td>0.509426</td>\n",
       "      <td>...</td>\n",
       "      <td>0.179125</td>\n",
       "      <td>0.180635</td>\n",
       "      <td>0.176980</td>\n",
       "      <td>-0.079269</td>\n",
       "      <td>-0.070101</td>\n",
       "      <td>-0.070561</td>\n",
       "      <td>-0.064005</td>\n",
       "      <td>-0.058190</td>\n",
       "      <td>-0.058673</td>\n",
       "      <td>0.324794</td>\n",
       "    </tr>\n",
       "    <tr>\n",
       "      <th>PAY_2</th>\n",
       "      <td>-0.296382</td>\n",
       "      <td>-0.070771</td>\n",
       "      <td>0.121566</td>\n",
       "      <td>0.024199</td>\n",
       "      <td>-0.050148</td>\n",
       "      <td>0.672164</td>\n",
       "      <td>1.000000</td>\n",
       "      <td>0.766552</td>\n",
       "      <td>0.662067</td>\n",
       "      <td>0.622780</td>\n",
       "      <td>...</td>\n",
       "      <td>0.222237</td>\n",
       "      <td>0.221348</td>\n",
       "      <td>0.219403</td>\n",
       "      <td>-0.080701</td>\n",
       "      <td>-0.058990</td>\n",
       "      <td>-0.055901</td>\n",
       "      <td>-0.046858</td>\n",
       "      <td>-0.037093</td>\n",
       "      <td>-0.036500</td>\n",
       "      <td>0.263551</td>\n",
       "    </tr>\n",
       "    <tr>\n",
       "      <th>PAY_3</th>\n",
       "      <td>-0.286123</td>\n",
       "      <td>-0.066096</td>\n",
       "      <td>0.114025</td>\n",
       "      <td>0.032688</td>\n",
       "      <td>-0.053048</td>\n",
       "      <td>0.574245</td>\n",
       "      <td>0.766552</td>\n",
       "      <td>1.000000</td>\n",
       "      <td>0.777359</td>\n",
       "      <td>0.686775</td>\n",
       "      <td>...</td>\n",
       "      <td>0.227202</td>\n",
       "      <td>0.225145</td>\n",
       "      <td>0.222327</td>\n",
       "      <td>0.001295</td>\n",
       "      <td>-0.066793</td>\n",
       "      <td>-0.053311</td>\n",
       "      <td>-0.046067</td>\n",
       "      <td>-0.035863</td>\n",
       "      <td>-0.035861</td>\n",
       "      <td>0.235253</td>\n",
       "    </tr>\n",
       "    <tr>\n",
       "      <th>PAY_4</th>\n",
       "      <td>-0.267460</td>\n",
       "      <td>-0.060173</td>\n",
       "      <td>0.108793</td>\n",
       "      <td>0.033122</td>\n",
       "      <td>-0.049722</td>\n",
       "      <td>0.538841</td>\n",
       "      <td>0.662067</td>\n",
       "      <td>0.777359</td>\n",
       "      <td>1.000000</td>\n",
       "      <td>0.819835</td>\n",
       "      <td>...</td>\n",
       "      <td>0.245917</td>\n",
       "      <td>0.242902</td>\n",
       "      <td>0.239154</td>\n",
       "      <td>-0.009362</td>\n",
       "      <td>-0.001944</td>\n",
       "      <td>-0.069235</td>\n",
       "      <td>-0.043461</td>\n",
       "      <td>-0.033590</td>\n",
       "      <td>-0.026565</td>\n",
       "      <td>0.216614</td>\n",
       "    </tr>\n",
       "    <tr>\n",
       "      <th>PAY_5</th>\n",
       "      <td>-0.249411</td>\n",
       "      <td>-0.055064</td>\n",
       "      <td>0.097520</td>\n",
       "      <td>0.035629</td>\n",
       "      <td>-0.053826</td>\n",
       "      <td>0.509426</td>\n",
       "      <td>0.622780</td>\n",
       "      <td>0.686775</td>\n",
       "      <td>0.819835</td>\n",
       "      <td>1.000000</td>\n",
       "      <td>...</td>\n",
       "      <td>0.271915</td>\n",
       "      <td>0.269783</td>\n",
       "      <td>0.262509</td>\n",
       "      <td>-0.006089</td>\n",
       "      <td>-0.003191</td>\n",
       "      <td>0.009062</td>\n",
       "      <td>-0.058299</td>\n",
       "      <td>-0.033337</td>\n",
       "      <td>-0.023027</td>\n",
       "      <td>0.204149</td>\n",
       "    </tr>\n",
       "    <tr>\n",
       "      <th>PAY_6</th>\n",
       "      <td>-0.235195</td>\n",
       "      <td>-0.044008</td>\n",
       "      <td>0.082316</td>\n",
       "      <td>0.034345</td>\n",
       "      <td>-0.048773</td>\n",
       "      <td>0.474553</td>\n",
       "      <td>0.575501</td>\n",
       "      <td>0.632684</td>\n",
       "      <td>0.716449</td>\n",
       "      <td>0.816900</td>\n",
       "      <td>...</td>\n",
       "      <td>0.266356</td>\n",
       "      <td>0.290894</td>\n",
       "      <td>0.285091</td>\n",
       "      <td>-0.001496</td>\n",
       "      <td>-0.005223</td>\n",
       "      <td>0.005834</td>\n",
       "      <td>0.019018</td>\n",
       "      <td>-0.046434</td>\n",
       "      <td>-0.025299</td>\n",
       "      <td>0.186866</td>\n",
       "    </tr>\n",
       "    <tr>\n",
       "      <th>BILL_AMT1</th>\n",
       "      <td>0.285430</td>\n",
       "      <td>-0.033642</td>\n",
       "      <td>0.023581</td>\n",
       "      <td>-0.023472</td>\n",
       "      <td>0.056239</td>\n",
       "      <td>0.187068</td>\n",
       "      <td>0.234887</td>\n",
       "      <td>0.208473</td>\n",
       "      <td>0.202812</td>\n",
       "      <td>0.206684</td>\n",
       "      <td>...</td>\n",
       "      <td>0.860272</td>\n",
       "      <td>0.829779</td>\n",
       "      <td>0.802650</td>\n",
       "      <td>0.140277</td>\n",
       "      <td>0.099355</td>\n",
       "      <td>0.156887</td>\n",
       "      <td>0.158303</td>\n",
       "      <td>0.167026</td>\n",
       "      <td>0.179341</td>\n",
       "      <td>-0.019644</td>\n",
       "    </tr>\n",
       "    <tr>\n",
       "      <th>BILL_AMT2</th>\n",
       "      <td>0.278314</td>\n",
       "      <td>-0.031183</td>\n",
       "      <td>0.018749</td>\n",
       "      <td>-0.021602</td>\n",
       "      <td>0.054283</td>\n",
       "      <td>0.189859</td>\n",
       "      <td>0.235257</td>\n",
       "      <td>0.237295</td>\n",
       "      <td>0.225816</td>\n",
       "      <td>0.226913</td>\n",
       "      <td>...</td>\n",
       "      <td>0.892482</td>\n",
       "      <td>0.859778</td>\n",
       "      <td>0.831594</td>\n",
       "      <td>0.280365</td>\n",
       "      <td>0.100851</td>\n",
       "      <td>0.150718</td>\n",
       "      <td>0.147398</td>\n",
       "      <td>0.157957</td>\n",
       "      <td>0.174256</td>\n",
       "      <td>-0.014193</td>\n",
       "    </tr>\n",
       "    <tr>\n",
       "      <th>BILL_AMT3</th>\n",
       "      <td>0.283236</td>\n",
       "      <td>-0.024563</td>\n",
       "      <td>0.013002</td>\n",
       "      <td>-0.024909</td>\n",
       "      <td>0.053710</td>\n",
       "      <td>0.179785</td>\n",
       "      <td>0.224146</td>\n",
       "      <td>0.227494</td>\n",
       "      <td>0.244983</td>\n",
       "      <td>0.243335</td>\n",
       "      <td>...</td>\n",
       "      <td>0.923969</td>\n",
       "      <td>0.883910</td>\n",
       "      <td>0.853320</td>\n",
       "      <td>0.244335</td>\n",
       "      <td>0.316936</td>\n",
       "      <td>0.130011</td>\n",
       "      <td>0.143405</td>\n",
       "      <td>0.179712</td>\n",
       "      <td>0.182326</td>\n",
       "      <td>-0.014076</td>\n",
       "    </tr>\n",
       "    <tr>\n",
       "      <th>BILL_AMT4</th>\n",
       "      <td>0.293988</td>\n",
       "      <td>-0.021880</td>\n",
       "      <td>-0.000451</td>\n",
       "      <td>-0.023344</td>\n",
       "      <td>0.051353</td>\n",
       "      <td>0.179125</td>\n",
       "      <td>0.222237</td>\n",
       "      <td>0.227202</td>\n",
       "      <td>0.245917</td>\n",
       "      <td>0.271915</td>\n",
       "      <td>...</td>\n",
       "      <td>1.000000</td>\n",
       "      <td>0.940134</td>\n",
       "      <td>0.900941</td>\n",
       "      <td>0.233012</td>\n",
       "      <td>0.207564</td>\n",
       "      <td>0.300023</td>\n",
       "      <td>0.130191</td>\n",
       "      <td>0.160433</td>\n",
       "      <td>0.177637</td>\n",
       "      <td>-0.010156</td>\n",
       "    </tr>\n",
       "    <tr>\n",
       "      <th>BILL_AMT5</th>\n",
       "      <td>0.295562</td>\n",
       "      <td>-0.017005</td>\n",
       "      <td>-0.007567</td>\n",
       "      <td>-0.025393</td>\n",
       "      <td>0.049345</td>\n",
       "      <td>0.180635</td>\n",
       "      <td>0.221348</td>\n",
       "      <td>0.225145</td>\n",
       "      <td>0.242902</td>\n",
       "      <td>0.269783</td>\n",
       "      <td>...</td>\n",
       "      <td>0.940134</td>\n",
       "      <td>1.000000</td>\n",
       "      <td>0.946197</td>\n",
       "      <td>0.217031</td>\n",
       "      <td>0.181246</td>\n",
       "      <td>0.252305</td>\n",
       "      <td>0.293118</td>\n",
       "      <td>0.141574</td>\n",
       "      <td>0.164184</td>\n",
       "      <td>-0.006760</td>\n",
       "    </tr>\n",
       "    <tr>\n",
       "      <th>BILL_AMT6</th>\n",
       "      <td>0.290389</td>\n",
       "      <td>-0.016733</td>\n",
       "      <td>-0.009099</td>\n",
       "      <td>-0.021207</td>\n",
       "      <td>0.047613</td>\n",
       "      <td>0.176980</td>\n",
       "      <td>0.219403</td>\n",
       "      <td>0.222327</td>\n",
       "      <td>0.239154</td>\n",
       "      <td>0.262509</td>\n",
       "      <td>...</td>\n",
       "      <td>0.900941</td>\n",
       "      <td>0.946197</td>\n",
       "      <td>1.000000</td>\n",
       "      <td>0.199965</td>\n",
       "      <td>0.172663</td>\n",
       "      <td>0.233770</td>\n",
       "      <td>0.250237</td>\n",
       "      <td>0.307729</td>\n",
       "      <td>0.115494</td>\n",
       "      <td>-0.005372</td>\n",
       "    </tr>\n",
       "    <tr>\n",
       "      <th>PAY_AMT1</th>\n",
       "      <td>0.195236</td>\n",
       "      <td>-0.000242</td>\n",
       "      <td>-0.037456</td>\n",
       "      <td>-0.005979</td>\n",
       "      <td>0.026147</td>\n",
       "      <td>-0.079269</td>\n",
       "      <td>-0.080701</td>\n",
       "      <td>0.001295</td>\n",
       "      <td>-0.009362</td>\n",
       "      <td>-0.006089</td>\n",
       "      <td>...</td>\n",
       "      <td>0.233012</td>\n",
       "      <td>0.217031</td>\n",
       "      <td>0.199965</td>\n",
       "      <td>1.000000</td>\n",
       "      <td>0.285576</td>\n",
       "      <td>0.252191</td>\n",
       "      <td>0.199558</td>\n",
       "      <td>0.148459</td>\n",
       "      <td>0.185735</td>\n",
       "      <td>-0.072929</td>\n",
       "    </tr>\n",
       "    <tr>\n",
       "      <th>PAY_AMT2</th>\n",
       "      <td>0.178408</td>\n",
       "      <td>-0.001391</td>\n",
       "      <td>-0.030038</td>\n",
       "      <td>-0.008093</td>\n",
       "      <td>0.021785</td>\n",
       "      <td>-0.070101</td>\n",
       "      <td>-0.058990</td>\n",
       "      <td>-0.066793</td>\n",
       "      <td>-0.001944</td>\n",
       "      <td>-0.003191</td>\n",
       "      <td>...</td>\n",
       "      <td>0.207564</td>\n",
       "      <td>0.181246</td>\n",
       "      <td>0.172663</td>\n",
       "      <td>0.285576</td>\n",
       "      <td>1.000000</td>\n",
       "      <td>0.244770</td>\n",
       "      <td>0.180107</td>\n",
       "      <td>0.180908</td>\n",
       "      <td>0.157634</td>\n",
       "      <td>-0.058579</td>\n",
       "    </tr>\n",
       "    <tr>\n",
       "      <th>PAY_AMT3</th>\n",
       "      <td>0.210167</td>\n",
       "      <td>-0.008597</td>\n",
       "      <td>-0.039943</td>\n",
       "      <td>-0.003541</td>\n",
       "      <td>0.029247</td>\n",
       "      <td>-0.070561</td>\n",
       "      <td>-0.055901</td>\n",
       "      <td>-0.053311</td>\n",
       "      <td>-0.069235</td>\n",
       "      <td>0.009062</td>\n",
       "      <td>...</td>\n",
       "      <td>0.300023</td>\n",
       "      <td>0.252305</td>\n",
       "      <td>0.233770</td>\n",
       "      <td>0.252191</td>\n",
       "      <td>0.244770</td>\n",
       "      <td>1.000000</td>\n",
       "      <td>0.216325</td>\n",
       "      <td>0.159214</td>\n",
       "      <td>0.162740</td>\n",
       "      <td>-0.056250</td>\n",
       "    </tr>\n",
       "    <tr>\n",
       "      <th>PAY_AMT4</th>\n",
       "      <td>0.203242</td>\n",
       "      <td>-0.002229</td>\n",
       "      <td>-0.038218</td>\n",
       "      <td>-0.012659</td>\n",
       "      <td>0.021379</td>\n",
       "      <td>-0.064005</td>\n",
       "      <td>-0.046858</td>\n",
       "      <td>-0.046067</td>\n",
       "      <td>-0.043461</td>\n",
       "      <td>-0.058299</td>\n",
       "      <td>...</td>\n",
       "      <td>0.130191</td>\n",
       "      <td>0.293118</td>\n",
       "      <td>0.250237</td>\n",
       "      <td>0.199558</td>\n",
       "      <td>0.180107</td>\n",
       "      <td>0.216325</td>\n",
       "      <td>1.000000</td>\n",
       "      <td>0.151830</td>\n",
       "      <td>0.157834</td>\n",
       "      <td>-0.056827</td>\n",
       "    </tr>\n",
       "    <tr>\n",
       "      <th>PAY_AMT5</th>\n",
       "      <td>0.217202</td>\n",
       "      <td>-0.001667</td>\n",
       "      <td>-0.040358</td>\n",
       "      <td>-0.001205</td>\n",
       "      <td>0.022850</td>\n",
       "      <td>-0.058190</td>\n",
       "      <td>-0.037093</td>\n",
       "      <td>-0.035863</td>\n",
       "      <td>-0.033590</td>\n",
       "      <td>-0.033337</td>\n",
       "      <td>...</td>\n",
       "      <td>0.160433</td>\n",
       "      <td>0.141574</td>\n",
       "      <td>0.307729</td>\n",
       "      <td>0.148459</td>\n",
       "      <td>0.180908</td>\n",
       "      <td>0.159214</td>\n",
       "      <td>0.151830</td>\n",
       "      <td>1.000000</td>\n",
       "      <td>0.154896</td>\n",
       "      <td>-0.055124</td>\n",
       "    </tr>\n",
       "    <tr>\n",
       "      <th>PAY_AMT6</th>\n",
       "      <td>0.219595</td>\n",
       "      <td>-0.002766</td>\n",
       "      <td>-0.037200</td>\n",
       "      <td>-0.006641</td>\n",
       "      <td>0.019478</td>\n",
       "      <td>-0.058673</td>\n",
       "      <td>-0.036500</td>\n",
       "      <td>-0.035861</td>\n",
       "      <td>-0.026565</td>\n",
       "      <td>-0.023027</td>\n",
       "      <td>...</td>\n",
       "      <td>0.177637</td>\n",
       "      <td>0.164184</td>\n",
       "      <td>0.115494</td>\n",
       "      <td>0.185735</td>\n",
       "      <td>0.157634</td>\n",
       "      <td>0.162740</td>\n",
       "      <td>0.157834</td>\n",
       "      <td>0.154896</td>\n",
       "      <td>1.000000</td>\n",
       "      <td>-0.053183</td>\n",
       "    </tr>\n",
       "    <tr>\n",
       "      <th>default.payment.next.month</th>\n",
       "      <td>-0.153520</td>\n",
       "      <td>-0.039961</td>\n",
       "      <td>0.028006</td>\n",
       "      <td>-0.024339</td>\n",
       "      <td>0.013890</td>\n",
       "      <td>0.324794</td>\n",
       "      <td>0.263551</td>\n",
       "      <td>0.235253</td>\n",
       "      <td>0.216614</td>\n",
       "      <td>0.204149</td>\n",
       "      <td>...</td>\n",
       "      <td>-0.010156</td>\n",
       "      <td>-0.006760</td>\n",
       "      <td>-0.005372</td>\n",
       "      <td>-0.072929</td>\n",
       "      <td>-0.058579</td>\n",
       "      <td>-0.056250</td>\n",
       "      <td>-0.056827</td>\n",
       "      <td>-0.055124</td>\n",
       "      <td>-0.053183</td>\n",
       "      <td>1.000000</td>\n",
       "    </tr>\n",
       "  </tbody>\n",
       "</table>\n",
       "<p>24 rows × 24 columns</p>\n",
       "</div>"
      ],
      "text/plain": [
       "                            LIMIT_BAL       SEX  EDUCATION  MARRIAGE  \\\n",
       "LIMIT_BAL                    1.000000  0.024755  -0.219161 -0.108139   \n",
       "SEX                          0.024755  1.000000   0.014232 -0.031389   \n",
       "EDUCATION                   -0.219161  0.014232   1.000000 -0.143464   \n",
       "MARRIAGE                    -0.108139 -0.031389  -0.143464  1.000000   \n",
       "AGE                          0.144713 -0.090874   0.175061 -0.414170   \n",
       "PAY_0                       -0.271214 -0.057643   0.105364  0.019917   \n",
       "PAY_2                       -0.296382 -0.070771   0.121566  0.024199   \n",
       "PAY_3                       -0.286123 -0.066096   0.114025  0.032688   \n",
       "PAY_4                       -0.267460 -0.060173   0.108793  0.033122   \n",
       "PAY_5                       -0.249411 -0.055064   0.097520  0.035629   \n",
       "PAY_6                       -0.235195 -0.044008   0.082316  0.034345   \n",
       "BILL_AMT1                    0.285430 -0.033642   0.023581 -0.023472   \n",
       "BILL_AMT2                    0.278314 -0.031183   0.018749 -0.021602   \n",
       "BILL_AMT3                    0.283236 -0.024563   0.013002 -0.024909   \n",
       "BILL_AMT4                    0.293988 -0.021880  -0.000451 -0.023344   \n",
       "BILL_AMT5                    0.295562 -0.017005  -0.007567 -0.025393   \n",
       "BILL_AMT6                    0.290389 -0.016733  -0.009099 -0.021207   \n",
       "PAY_AMT1                     0.195236 -0.000242  -0.037456 -0.005979   \n",
       "PAY_AMT2                     0.178408 -0.001391  -0.030038 -0.008093   \n",
       "PAY_AMT3                     0.210167 -0.008597  -0.039943 -0.003541   \n",
       "PAY_AMT4                     0.203242 -0.002229  -0.038218 -0.012659   \n",
       "PAY_AMT5                     0.217202 -0.001667  -0.040358 -0.001205   \n",
       "PAY_AMT6                     0.219595 -0.002766  -0.037200 -0.006641   \n",
       "default.payment.next.month  -0.153520 -0.039961   0.028006 -0.024339   \n",
       "\n",
       "                                 AGE     PAY_0     PAY_2     PAY_3     PAY_4  \\\n",
       "LIMIT_BAL                   0.144713 -0.271214 -0.296382 -0.286123 -0.267460   \n",
       "SEX                        -0.090874 -0.057643 -0.070771 -0.066096 -0.060173   \n",
       "EDUCATION                   0.175061  0.105364  0.121566  0.114025  0.108793   \n",
       "MARRIAGE                   -0.414170  0.019917  0.024199  0.032688  0.033122   \n",
       "AGE                         1.000000 -0.039447 -0.050148 -0.053048 -0.049722   \n",
       "PAY_0                      -0.039447  1.000000  0.672164  0.574245  0.538841   \n",
       "PAY_2                      -0.050148  0.672164  1.000000  0.766552  0.662067   \n",
       "PAY_3                      -0.053048  0.574245  0.766552  1.000000  0.777359   \n",
       "PAY_4                      -0.049722  0.538841  0.662067  0.777359  1.000000   \n",
       "PAY_5                      -0.053826  0.509426  0.622780  0.686775  0.819835   \n",
       "PAY_6                      -0.048773  0.474553  0.575501  0.632684  0.716449   \n",
       "BILL_AMT1                   0.056239  0.187068  0.234887  0.208473  0.202812   \n",
       "BILL_AMT2                   0.054283  0.189859  0.235257  0.237295  0.225816   \n",
       "BILL_AMT3                   0.053710  0.179785  0.224146  0.227494  0.244983   \n",
       "BILL_AMT4                   0.051353  0.179125  0.222237  0.227202  0.245917   \n",
       "BILL_AMT5                   0.049345  0.180635  0.221348  0.225145  0.242902   \n",
       "BILL_AMT6                   0.047613  0.176980  0.219403  0.222327  0.239154   \n",
       "PAY_AMT1                    0.026147 -0.079269 -0.080701  0.001295 -0.009362   \n",
       "PAY_AMT2                    0.021785 -0.070101 -0.058990 -0.066793 -0.001944   \n",
       "PAY_AMT3                    0.029247 -0.070561 -0.055901 -0.053311 -0.069235   \n",
       "PAY_AMT4                    0.021379 -0.064005 -0.046858 -0.046067 -0.043461   \n",
       "PAY_AMT5                    0.022850 -0.058190 -0.037093 -0.035863 -0.033590   \n",
       "PAY_AMT6                    0.019478 -0.058673 -0.036500 -0.035861 -0.026565   \n",
       "default.payment.next.month  0.013890  0.324794  0.263551  0.235253  0.216614   \n",
       "\n",
       "                               PAY_5  ...  BILL_AMT4  BILL_AMT5  BILL_AMT6  \\\n",
       "LIMIT_BAL                  -0.249411  ...   0.293988   0.295562   0.290389   \n",
       "SEX                        -0.055064  ...  -0.021880  -0.017005  -0.016733   \n",
       "EDUCATION                   0.097520  ...  -0.000451  -0.007567  -0.009099   \n",
       "MARRIAGE                    0.035629  ...  -0.023344  -0.025393  -0.021207   \n",
       "AGE                        -0.053826  ...   0.051353   0.049345   0.047613   \n",
       "PAY_0                       0.509426  ...   0.179125   0.180635   0.176980   \n",
       "PAY_2                       0.622780  ...   0.222237   0.221348   0.219403   \n",
       "PAY_3                       0.686775  ...   0.227202   0.225145   0.222327   \n",
       "PAY_4                       0.819835  ...   0.245917   0.242902   0.239154   \n",
       "PAY_5                       1.000000  ...   0.271915   0.269783   0.262509   \n",
       "PAY_6                       0.816900  ...   0.266356   0.290894   0.285091   \n",
       "BILL_AMT1                   0.206684  ...   0.860272   0.829779   0.802650   \n",
       "BILL_AMT2                   0.226913  ...   0.892482   0.859778   0.831594   \n",
       "BILL_AMT3                   0.243335  ...   0.923969   0.883910   0.853320   \n",
       "BILL_AMT4                   0.271915  ...   1.000000   0.940134   0.900941   \n",
       "BILL_AMT5                   0.269783  ...   0.940134   1.000000   0.946197   \n",
       "BILL_AMT6                   0.262509  ...   0.900941   0.946197   1.000000   \n",
       "PAY_AMT1                   -0.006089  ...   0.233012   0.217031   0.199965   \n",
       "PAY_AMT2                   -0.003191  ...   0.207564   0.181246   0.172663   \n",
       "PAY_AMT3                    0.009062  ...   0.300023   0.252305   0.233770   \n",
       "PAY_AMT4                   -0.058299  ...   0.130191   0.293118   0.250237   \n",
       "PAY_AMT5                   -0.033337  ...   0.160433   0.141574   0.307729   \n",
       "PAY_AMT6                   -0.023027  ...   0.177637   0.164184   0.115494   \n",
       "default.payment.next.month  0.204149  ...  -0.010156  -0.006760  -0.005372   \n",
       "\n",
       "                            PAY_AMT1  PAY_AMT2  PAY_AMT3  PAY_AMT4  PAY_AMT5  \\\n",
       "LIMIT_BAL                   0.195236  0.178408  0.210167  0.203242  0.217202   \n",
       "SEX                        -0.000242 -0.001391 -0.008597 -0.002229 -0.001667   \n",
       "EDUCATION                  -0.037456 -0.030038 -0.039943 -0.038218 -0.040358   \n",
       "MARRIAGE                   -0.005979 -0.008093 -0.003541 -0.012659 -0.001205   \n",
       "AGE                         0.026147  0.021785  0.029247  0.021379  0.022850   \n",
       "PAY_0                      -0.079269 -0.070101 -0.070561 -0.064005 -0.058190   \n",
       "PAY_2                      -0.080701 -0.058990 -0.055901 -0.046858 -0.037093   \n",
       "PAY_3                       0.001295 -0.066793 -0.053311 -0.046067 -0.035863   \n",
       "PAY_4                      -0.009362 -0.001944 -0.069235 -0.043461 -0.033590   \n",
       "PAY_5                      -0.006089 -0.003191  0.009062 -0.058299 -0.033337   \n",
       "PAY_6                      -0.001496 -0.005223  0.005834  0.019018 -0.046434   \n",
       "BILL_AMT1                   0.140277  0.099355  0.156887  0.158303  0.167026   \n",
       "BILL_AMT2                   0.280365  0.100851  0.150718  0.147398  0.157957   \n",
       "BILL_AMT3                   0.244335  0.316936  0.130011  0.143405  0.179712   \n",
       "BILL_AMT4                   0.233012  0.207564  0.300023  0.130191  0.160433   \n",
       "BILL_AMT5                   0.217031  0.181246  0.252305  0.293118  0.141574   \n",
       "BILL_AMT6                   0.199965  0.172663  0.233770  0.250237  0.307729   \n",
       "PAY_AMT1                    1.000000  0.285576  0.252191  0.199558  0.148459   \n",
       "PAY_AMT2                    0.285576  1.000000  0.244770  0.180107  0.180908   \n",
       "PAY_AMT3                    0.252191  0.244770  1.000000  0.216325  0.159214   \n",
       "PAY_AMT4                    0.199558  0.180107  0.216325  1.000000  0.151830   \n",
       "PAY_AMT5                    0.148459  0.180908  0.159214  0.151830  1.000000   \n",
       "PAY_AMT6                    0.185735  0.157634  0.162740  0.157834  0.154896   \n",
       "default.payment.next.month -0.072929 -0.058579 -0.056250 -0.056827 -0.055124   \n",
       "\n",
       "                            PAY_AMT6  default.payment.next.month  \n",
       "LIMIT_BAL                   0.219595                   -0.153520  \n",
       "SEX                        -0.002766                   -0.039961  \n",
       "EDUCATION                  -0.037200                    0.028006  \n",
       "MARRIAGE                   -0.006641                   -0.024339  \n",
       "AGE                         0.019478                    0.013890  \n",
       "PAY_0                      -0.058673                    0.324794  \n",
       "PAY_2                      -0.036500                    0.263551  \n",
       "PAY_3                      -0.035861                    0.235253  \n",
       "PAY_4                      -0.026565                    0.216614  \n",
       "PAY_5                      -0.023027                    0.204149  \n",
       "PAY_6                      -0.025299                    0.186866  \n",
       "BILL_AMT1                   0.179341                   -0.019644  \n",
       "BILL_AMT2                   0.174256                   -0.014193  \n",
       "BILL_AMT3                   0.182326                   -0.014076  \n",
       "BILL_AMT4                   0.177637                   -0.010156  \n",
       "BILL_AMT5                   0.164184                   -0.006760  \n",
       "BILL_AMT6                   0.115494                   -0.005372  \n",
       "PAY_AMT1                    0.185735                   -0.072929  \n",
       "PAY_AMT2                    0.157634                   -0.058579  \n",
       "PAY_AMT3                    0.162740                   -0.056250  \n",
       "PAY_AMT4                    0.157834                   -0.056827  \n",
       "PAY_AMT5                    0.154896                   -0.055124  \n",
       "PAY_AMT6                    1.000000                   -0.053183  \n",
       "default.payment.next.month -0.053183                    1.000000  \n",
       "\n",
       "[24 rows x 24 columns]"
      ]
     },
     "execution_count": 11,
     "metadata": {},
     "output_type": "execute_result"
    }
   ],
   "source": [
    "df.corr()"
   ]
  },
  {
   "cell_type": "code",
   "execution_count": 14,
   "metadata": {},
   "outputs": [
    {
     "data": {
      "text/plain": [
       "<AxesSubplot:>"
      ]
     },
     "execution_count": 14,
     "metadata": {},
     "output_type": "execute_result"
    },
    {
     "data": {
      "image/png": "[encoded data removed]",
      "text/plain": [
       "<Figure size 1440x1440 with 2 Axes>"
      ]
     },
     "metadata": {
      "needs_background": "light"
     },
     "output_type": "display_data"
    }
   ],
   "source": [
    "plt.figure(figsize=(20,20))\n",
    "sns.heatmap(df.corr(),annot=True)"
   ]
  },
  {
   "cell_type": "markdown",
   "metadata": {},
   "source": [
    "### Balancing the dataset"
   ]
  },
  {
   "cell_type": "code",
   "execution_count": 16,
   "metadata": {},
   "outputs": [
    {
     "data": {
      "text/plain": [
       "23364"
      ]
     },
     "execution_count": 16,
     "metadata": {},
     "output_type": "execute_result"
    }
   ],
   "source": [
    "len(df[df[\"default.payment.next.month\"]==0])"
   ]
  },
  {
   "cell_type": "code",
   "execution_count": 17,
   "metadata": {},
   "outputs": [
    {
     "data": {
      "text/plain": [
       "6636"
      ]
     },
     "execution_count": 17,
     "metadata": {},
     "output_type": "execute_result"
    }
   ],
   "source": [
    "len(df[df[\"default.payment.next.month\"]==1])"
   ]
  },
  {
   "cell_type": "code",
   "execution_count": 19,
   "metadata": {},
   "outputs": [
    {
     "data": {
      "text/plain": [
       "3.5207956600361663"
      ]
     },
     "execution_count": 19,
     "metadata": {},
     "output_type": "execute_result"
    }
   ],
   "source": [
    "23364/6636"
   ]
  },
  {
   "cell_type": "markdown",
   "metadata": {},
   "source": [
    "So number of not default client are 3.5 times of number of default client"
   ]
  },
  {
   "cell_type": "markdown",
   "metadata": {},
   "source": [
    " "
   ]
  },
  {
   "cell_type": "code",
   "execution_count": 22,
   "metadata": {},
   "outputs": [],
   "source": [
    "from sklearn.utils import resample"
   ]
  },
  {
   "cell_type": "code",
   "execution_count": 23,
   "metadata": {},
   "outputs": [],
   "source": [
    "df_majority=df[df[\"default.payment.next.month\"]==0]"
   ]
  },
  {
   "cell_type": "code",
   "execution_count": 24,
   "metadata": {},
   "outputs": [],
   "source": [
    "df_minority=df[df[\"default.payment.next.month\"]==1]"
   ]
  },
  {
   "cell_type": "code",
   "execution_count": 49,
   "metadata": {},
   "outputs": [],
   "source": [
    "df_minority_upsampled=resample(df_minority,replace=True,n_samples=23364,random_state=123)\n",
    "df_upsampled=pd.concat([df_minority_upsampled,df_majority])\n",
    "df_upsampled[\"default.payment.next.month\"].value_counts()\n",
    "df=df_upsampled.copy()"
   ]
  },
  {
   "cell_type": "code",
   "execution_count": 50,
   "metadata": {},
   "outputs": [
    {
     "name": "stdout",
     "output_type": "stream",
     "text": [
      "<class 'pandas.core.frame.DataFrame'>\n",
      "Int64Index: 46728 entries, 15973 to 29996\n",
      "Data columns (total 24 columns):\n",
      " #   Column                      Non-Null Count  Dtype  \n",
      "---  ------                      --------------  -----  \n",
      " 0   LIMIT_BAL                   46728 non-null  float64\n",
      " 1   SEX                         46728 non-null  int64  \n",
      " 2   EDUCATION                   46728 non-null  int64  \n",
      " 3   MARRIAGE                    46728 non-null  int64  \n",
      " 4   AGE                         46728 non-null  int64  \n",
      " 5   PAY_0                       46728 non-null  int64  \n",
      " 6   PAY_2                       46728 non-null  int64  \n",
      " 7   PAY_3                       46728 non-null  int64  \n",
      " 8   PAY_4                       46728 non-null  int64  \n",
      " 9   PAY_5                       46728 non-null  int64  \n",
      " 10  PAY_6                       46728 non-null  int64  \n",
      " 11  BILL_AMT1                   46728 non-null  float64\n",
      " 12  BILL_AMT2                   46728 non-null  float64\n",
      " 13  BILL_AMT3                   46728 non-null  float64\n",
      " 14  BILL_AMT4                   46728 non-null  float64\n",
      " 15  BILL_AMT5                   46728 non-null  float64\n",
      " 16  BILL_AMT6                   46728 non-null  float64\n",
      " 17  PAY_AMT1                    46728 non-null  float64\n",
      " 18  PAY_AMT2                    46728 non-null  float64\n",
      " 19  PAY_AMT3                    46728 non-null  float64\n",
      " 20  PAY_AMT4                    46728 non-null  float64\n",
      " 21  PAY_AMT5                    46728 non-null  float64\n",
      " 22  PAY_AMT6                    46728 non-null  float64\n",
      " 23  default.payment.next.month  46728 non-null  int64  \n",
      "dtypes: float64(13), int64(11)\n",
      "memory usage: 8.9 MB\n"
     ]
    }
   ],
   "source": [
    "df.info()"
   ]
  },
  {
   "cell_type": "markdown",
   "metadata": {},
   "source": [
    " "
   ]
  },
  {
   "cell_type": "markdown",
   "metadata": {},
   "source": [
    "So as you can see the number of element in default and non-default is now equal and we have get rid of the imbalance problem"
   ]
  },
  {
   "cell_type": "markdown",
   "metadata": {},
   "source": [
    " "
   ]
  },
  {
   "cell_type": "markdown",
   "metadata": {},
   "source": [
    "### One hot encoding"
   ]
  },
  {
   "cell_type": "markdown",
   "metadata": {},
   "source": [
    "There are Some categorical value we have to one hot encode it to apply machine learning model "
   ]
  },
  {
   "cell_type": "code",
   "execution_count": 52,
   "metadata": {},
   "outputs": [],
   "source": [
    "def one_hot_encoding(df,columns_dict):\n",
    "    df=df.copy()\n",
    "    for column,prefix in columns_dict.items():\n",
    "        dummies=pd.get_dummies(df[column],prefix=prefix)\n",
    "        df=pd.concat([df,dummies],axis=1)\n",
    "        df=df.drop(column,axis=1)\n",
    "    return df"
   ]
  },
  {
   "cell_type": "code",
   "execution_count": 53,
   "metadata": {},
   "outputs": [],
   "source": [
    "columns_dict={\"SEX\":\"SEX\",\"MARRIAGE\":\"MAR\",\"EDUCATION\":\"EDU\"}\n",
    "df=one_hot_encoding(df,columns_dict)"
   ]
  },
  {
   "cell_type": "code",
   "execution_count": 54,
   "metadata": {
    "scrolled": true
   },
   "outputs": [
    {
     "data": {
      "text/html": [
       "<div>\n",
       "<style scoped>\n",
       "    .dataframe tbody tr th:only-of-type {\n",
       "        vertical-align: middle;\n",
       "    }\n",
       "\n",
       "    .dataframe tbody tr th {\n",
       "        vertical-align: top;\n",
       "    }\n",
       "\n",
       "    .dataframe thead th {\n",
       "        text-align: right;\n",
       "    }\n",
       "</style>\n",
       "<table border=\"1\" class=\"dataframe\">\n",
       "  <thead>\n",
       "    <tr style=\"text-align: right;\">\n",
       "      <th></th>\n",
       "      <th>LIMIT_BAL</th>\n",
       "      <th>AGE</th>\n",
       "      <th>PAY_0</th>\n",
       "      <th>PAY_2</th>\n",
       "      <th>PAY_3</th>\n",
       "      <th>PAY_4</th>\n",
       "      <th>PAY_5</th>\n",
       "      <th>PAY_6</th>\n",
       "      <th>BILL_AMT1</th>\n",
       "      <th>BILL_AMT2</th>\n",
       "      <th>...</th>\n",
       "      <th>MAR_1</th>\n",
       "      <th>MAR_2</th>\n",
       "      <th>MAR_3</th>\n",
       "      <th>EDU_0</th>\n",
       "      <th>EDU_1</th>\n",
       "      <th>EDU_2</th>\n",
       "      <th>EDU_3</th>\n",
       "      <th>EDU_4</th>\n",
       "      <th>EDU_5</th>\n",
       "      <th>EDU_6</th>\n",
       "    </tr>\n",
       "  </thead>\n",
       "  <tbody>\n",
       "    <tr>\n",
       "      <th>15973</th>\n",
       "      <td>50000.0</td>\n",
       "      <td>41</td>\n",
       "      <td>1</td>\n",
       "      <td>2</td>\n",
       "      <td>0</td>\n",
       "      <td>0</td>\n",
       "      <td>0</td>\n",
       "      <td>0</td>\n",
       "      <td>49487.0</td>\n",
       "      <td>48282.0</td>\n",
       "      <td>...</td>\n",
       "      <td>0</td>\n",
       "      <td>1</td>\n",
       "      <td>0</td>\n",
       "      <td>0</td>\n",
       "      <td>0</td>\n",
       "      <td>1</td>\n",
       "      <td>0</td>\n",
       "      <td>0</td>\n",
       "      <td>0</td>\n",
       "      <td>0</td>\n",
       "    </tr>\n",
       "    <tr>\n",
       "      <th>15426</th>\n",
       "      <td>60000.0</td>\n",
       "      <td>38</td>\n",
       "      <td>0</td>\n",
       "      <td>0</td>\n",
       "      <td>0</td>\n",
       "      <td>0</td>\n",
       "      <td>-2</td>\n",
       "      <td>-2</td>\n",
       "      <td>57775.0</td>\n",
       "      <td>51280.0</td>\n",
       "      <td>...</td>\n",
       "      <td>0</td>\n",
       "      <td>1</td>\n",
       "      <td>0</td>\n",
       "      <td>0</td>\n",
       "      <td>0</td>\n",
       "      <td>1</td>\n",
       "      <td>0</td>\n",
       "      <td>0</td>\n",
       "      <td>0</td>\n",
       "      <td>0</td>\n",
       "    </tr>\n",
       "    <tr>\n",
       "      <th>6107</th>\n",
       "      <td>140000.0</td>\n",
       "      <td>36</td>\n",
       "      <td>-1</td>\n",
       "      <td>-1</td>\n",
       "      <td>-1</td>\n",
       "      <td>-1</td>\n",
       "      <td>-1</td>\n",
       "      <td>-1</td>\n",
       "      <td>326.0</td>\n",
       "      <td>501.0</td>\n",
       "      <td>...</td>\n",
       "      <td>1</td>\n",
       "      <td>0</td>\n",
       "      <td>0</td>\n",
       "      <td>0</td>\n",
       "      <td>0</td>\n",
       "      <td>1</td>\n",
       "      <td>0</td>\n",
       "      <td>0</td>\n",
       "      <td>0</td>\n",
       "      <td>0</td>\n",
       "    </tr>\n",
       "    <tr>\n",
       "      <th>17640</th>\n",
       "      <td>200000.0</td>\n",
       "      <td>34</td>\n",
       "      <td>-2</td>\n",
       "      <td>-2</td>\n",
       "      <td>-2</td>\n",
       "      <td>-2</td>\n",
       "      <td>-2</td>\n",
       "      <td>-2</td>\n",
       "      <td>0.0</td>\n",
       "      <td>0.0</td>\n",
       "      <td>...</td>\n",
       "      <td>0</td>\n",
       "      <td>1</td>\n",
       "      <td>0</td>\n",
       "      <td>0</td>\n",
       "      <td>1</td>\n",
       "      <td>0</td>\n",
       "      <td>0</td>\n",
       "      <td>0</td>\n",
       "      <td>0</td>\n",
       "      <td>0</td>\n",
       "    </tr>\n",
       "    <tr>\n",
       "      <th>23235</th>\n",
       "      <td>120000.0</td>\n",
       "      <td>41</td>\n",
       "      <td>0</td>\n",
       "      <td>0</td>\n",
       "      <td>0</td>\n",
       "      <td>0</td>\n",
       "      <td>0</td>\n",
       "      <td>0</td>\n",
       "      <td>118131.0</td>\n",
       "      <td>116607.0</td>\n",
       "      <td>...</td>\n",
       "      <td>1</td>\n",
       "      <td>0</td>\n",
       "      <td>0</td>\n",
       "      <td>0</td>\n",
       "      <td>0</td>\n",
       "      <td>1</td>\n",
       "      <td>0</td>\n",
       "      <td>0</td>\n",
       "      <td>0</td>\n",
       "      <td>0</td>\n",
       "    </tr>\n",
       "    <tr>\n",
       "      <th>...</th>\n",
       "      <td>...</td>\n",
       "      <td>...</td>\n",
       "      <td>...</td>\n",
       "      <td>...</td>\n",
       "      <td>...</td>\n",
       "      <td>...</td>\n",
       "      <td>...</td>\n",
       "      <td>...</td>\n",
       "      <td>...</td>\n",
       "      <td>...</td>\n",
       "      <td>...</td>\n",
       "      <td>...</td>\n",
       "      <td>...</td>\n",
       "      <td>...</td>\n",
       "      <td>...</td>\n",
       "      <td>...</td>\n",
       "      <td>...</td>\n",
       "      <td>...</td>\n",
       "      <td>...</td>\n",
       "      <td>...</td>\n",
       "      <td>...</td>\n",
       "    </tr>\n",
       "    <tr>\n",
       "      <th>29990</th>\n",
       "      <td>140000.0</td>\n",
       "      <td>41</td>\n",
       "      <td>0</td>\n",
       "      <td>0</td>\n",
       "      <td>0</td>\n",
       "      <td>0</td>\n",
       "      <td>0</td>\n",
       "      <td>0</td>\n",
       "      <td>138325.0</td>\n",
       "      <td>137142.0</td>\n",
       "      <td>...</td>\n",
       "      <td>1</td>\n",
       "      <td>0</td>\n",
       "      <td>0</td>\n",
       "      <td>0</td>\n",
       "      <td>0</td>\n",
       "      <td>1</td>\n",
       "      <td>0</td>\n",
       "      <td>0</td>\n",
       "      <td>0</td>\n",
       "      <td>0</td>\n",
       "    </tr>\n",
       "    <tr>\n",
       "      <th>29992</th>\n",
       "      <td>10000.0</td>\n",
       "      <td>43</td>\n",
       "      <td>0</td>\n",
       "      <td>0</td>\n",
       "      <td>0</td>\n",
       "      <td>-2</td>\n",
       "      <td>-2</td>\n",
       "      <td>-2</td>\n",
       "      <td>8802.0</td>\n",
       "      <td>10400.0</td>\n",
       "      <td>...</td>\n",
       "      <td>1</td>\n",
       "      <td>0</td>\n",
       "      <td>0</td>\n",
       "      <td>0</td>\n",
       "      <td>0</td>\n",
       "      <td>0</td>\n",
       "      <td>1</td>\n",
       "      <td>0</td>\n",
       "      <td>0</td>\n",
       "      <td>0</td>\n",
       "    </tr>\n",
       "    <tr>\n",
       "      <th>29993</th>\n",
       "      <td>100000.0</td>\n",
       "      <td>38</td>\n",
       "      <td>0</td>\n",
       "      <td>-1</td>\n",
       "      <td>-1</td>\n",
       "      <td>0</td>\n",
       "      <td>0</td>\n",
       "      <td>0</td>\n",
       "      <td>3042.0</td>\n",
       "      <td>1427.0</td>\n",
       "      <td>...</td>\n",
       "      <td>0</td>\n",
       "      <td>1</td>\n",
       "      <td>0</td>\n",
       "      <td>0</td>\n",
       "      <td>1</td>\n",
       "      <td>0</td>\n",
       "      <td>0</td>\n",
       "      <td>0</td>\n",
       "      <td>0</td>\n",
       "      <td>0</td>\n",
       "    </tr>\n",
       "    <tr>\n",
       "      <th>29995</th>\n",
       "      <td>220000.0</td>\n",
       "      <td>39</td>\n",
       "      <td>0</td>\n",
       "      <td>0</td>\n",
       "      <td>0</td>\n",
       "      <td>0</td>\n",
       "      <td>0</td>\n",
       "      <td>0</td>\n",
       "      <td>188948.0</td>\n",
       "      <td>192815.0</td>\n",
       "      <td>...</td>\n",
       "      <td>1</td>\n",
       "      <td>0</td>\n",
       "      <td>0</td>\n",
       "      <td>0</td>\n",
       "      <td>0</td>\n",
       "      <td>0</td>\n",
       "      <td>1</td>\n",
       "      <td>0</td>\n",
       "      <td>0</td>\n",
       "      <td>0</td>\n",
       "    </tr>\n",
       "    <tr>\n",
       "      <th>29996</th>\n",
       "      <td>150000.0</td>\n",
       "      <td>43</td>\n",
       "      <td>-1</td>\n",
       "      <td>-1</td>\n",
       "      <td>-1</td>\n",
       "      <td>-1</td>\n",
       "      <td>0</td>\n",
       "      <td>0</td>\n",
       "      <td>1683.0</td>\n",
       "      <td>1828.0</td>\n",
       "      <td>...</td>\n",
       "      <td>0</td>\n",
       "      <td>1</td>\n",
       "      <td>0</td>\n",
       "      <td>0</td>\n",
       "      <td>0</td>\n",
       "      <td>0</td>\n",
       "      <td>1</td>\n",
       "      <td>0</td>\n",
       "      <td>0</td>\n",
       "      <td>0</td>\n",
       "    </tr>\n",
       "  </tbody>\n",
       "</table>\n",
       "<p>46728 rows × 34 columns</p>\n",
       "</div>"
      ],
      "text/plain": [
       "       LIMIT_BAL  AGE  PAY_0  PAY_2  PAY_3  PAY_4  PAY_5  PAY_6  BILL_AMT1  \\\n",
       "15973    50000.0   41      1      2      0      0      0      0    49487.0   \n",
       "15426    60000.0   38      0      0      0      0     -2     -2    57775.0   \n",
       "6107    140000.0   36     -1     -1     -1     -1     -1     -1      326.0   \n",
       "17640   200000.0   34     -2     -2     -2     -2     -2     -2        0.0   \n",
       "23235   120000.0   41      0      0      0      0      0      0   118131.0   \n",
       "...          ...  ...    ...    ...    ...    ...    ...    ...        ...   \n",
       "29990   140000.0   41      0      0      0      0      0      0   138325.0   \n",
       "29992    10000.0   43      0      0      0     -2     -2     -2     8802.0   \n",
       "29993   100000.0   38      0     -1     -1      0      0      0     3042.0   \n",
       "29995   220000.0   39      0      0      0      0      0      0   188948.0   \n",
       "29996   150000.0   43     -1     -1     -1     -1      0      0     1683.0   \n",
       "\n",
       "       BILL_AMT2  ...  MAR_1  MAR_2  MAR_3  EDU_0  EDU_1  EDU_2  EDU_3  EDU_4  \\\n",
       "15973    48282.0  ...      0      1      0      0      0      1      0      0   \n",
       "15426    51280.0  ...      0      1      0      0      0      1      0      0   \n",
       "6107       501.0  ...      1      0      0      0      0      1      0      0   \n",
       "17640        0.0  ...      0      1      0      0      1      0      0      0   \n",
       "23235   116607.0  ...      1      0      0      0      0      1      0      0   \n",
       "...          ...  ...    ...    ...    ...    ...    ...    ...    ...    ...   \n",
       "29990   137142.0  ...      1      0      0      0      0      1      0      0   \n",
       "29992    10400.0  ...      1      0      0      0      0      0      1      0   \n",
       "29993     1427.0  ...      0      1      0      0      1      0      0      0   \n",
       "29995   192815.0  ...      1      0      0      0      0      0      1      0   \n",
       "29996     1828.0  ...      0      1      0      0      0      0      1      0   \n",
       "\n",
       "       EDU_5  EDU_6  \n",
       "15973      0      0  \n",
       "15426      0      0  \n",
       "6107       0      0  \n",
       "17640      0      0  \n",
       "23235      0      0  \n",
       "...      ...    ...  \n",
       "29990      0      0  \n",
       "29992      0      0  \n",
       "29993      0      0  \n",
       "29995      0      0  \n",
       "29996      0      0  \n",
       "\n",
       "[46728 rows x 34 columns]"
      ]
     },
     "execution_count": 54,
     "metadata": {},
     "output_type": "execute_result"
    }
   ],
   "source": [
    "df"
   ]
  },
  {
   "cell_type": "markdown",
   "metadata": {},
   "source": [
    "### Separting x and y"
   ]
  },
  {
   "cell_type": "code",
   "execution_count": 55,
   "metadata": {},
   "outputs": [],
   "source": [
    "def preprocessing(df):\n",
    "    x=df.copy()\n",
    "    x.drop(\"default.payment.next.month\",axis=1,inplace=True)\n",
    "    y=df[\"default.payment.next.month\"]\n",
    "    scaler=StandardScaler()\n",
    "    x=pd.DataFrame(scaler.fit_transform(x),columns=x.columns)\n",
    "    return x,y"
   ]
  },
  {
   "cell_type": "code",
   "execution_count": 56,
   "metadata": {},
   "outputs": [],
   "source": [
    "from sklearn.preprocessing import StandardScaler\n",
    "x,y=preprocessing(df)"
   ]
  },
  {
   "cell_type": "code",
   "execution_count": 57,
   "metadata": {},
   "outputs": [
    {
     "name": "stdout",
     "output_type": "stream",
     "text": [
      "<class 'pandas.core.frame.DataFrame'>\n",
      "RangeIndex: 46728 entries, 0 to 46727\n",
      "Data columns (total 33 columns):\n",
      " #   Column     Non-Null Count  Dtype  \n",
      "---  ------     --------------  -----  \n",
      " 0   LIMIT_BAL  46728 non-null  float64\n",
      " 1   AGE        46728 non-null  float64\n",
      " 2   PAY_0      46728 non-null  float64\n",
      " 3   PAY_2      46728 non-null  float64\n",
      " 4   PAY_3      46728 non-null  float64\n",
      " 5   PAY_4      46728 non-null  float64\n",
      " 6   PAY_5      46728 non-null  float64\n",
      " 7   PAY_6      46728 non-null  float64\n",
      " 8   BILL_AMT1  46728 non-null  float64\n",
      " 9   BILL_AMT2  46728 non-null  float64\n",
      " 10  BILL_AMT3  46728 non-null  float64\n",
      " 11  BILL_AMT4  46728 non-null  float64\n",
      " 12  BILL_AMT5  46728 non-null  float64\n",
      " 13  BILL_AMT6  46728 non-null  float64\n",
      " 14  PAY_AMT1   46728 non-null  float64\n",
      " 15  PAY_AMT2   46728 non-null  float64\n",
      " 16  PAY_AMT3   46728 non-null  float64\n",
      " 17  PAY_AMT4   46728 non-null  float64\n",
      " 18  PAY_AMT5   46728 non-null  float64\n",
      " 19  PAY_AMT6   46728 non-null  float64\n",
      " 20  SEX_1      46728 non-null  float64\n",
      " 21  SEX_2      46728 non-null  float64\n",
      " 22  MAR_0      46728 non-null  float64\n",
      " 23  MAR_1      46728 non-null  float64\n",
      " 24  MAR_2      46728 non-null  float64\n",
      " 25  MAR_3      46728 non-null  float64\n",
      " 26  EDU_0      46728 non-null  float64\n",
      " 27  EDU_1      46728 non-null  float64\n",
      " 28  EDU_2      46728 non-null  float64\n",
      " 29  EDU_3      46728 non-null  float64\n",
      " 30  EDU_4      46728 non-null  float64\n",
      " 31  EDU_5      46728 non-null  float64\n",
      " 32  EDU_6      46728 non-null  float64\n",
      "dtypes: float64(33)\n",
      "memory usage: 11.8 MB\n"
     ]
    }
   ],
   "source": [
    "x.info()"
   ]
  },
  {
   "cell_type": "code",
   "execution_count": 58,
   "metadata": {},
   "outputs": [
    {
     "data": {
      "text/plain": [
       "15973    1\n",
       "15426    1\n",
       "6107     1\n",
       "17640    1\n",
       "23235    1\n",
       "        ..\n",
       "29990    0\n",
       "29992    0\n",
       "29993    0\n",
       "29995    0\n",
       "29996    0\n",
       "Name: default.payment.next.month, Length: 46728, dtype: int64"
      ]
     },
     "execution_count": 58,
     "metadata": {},
     "output_type": "execute_result"
    }
   ],
   "source": [
    "y"
   ]
  },
  {
   "cell_type": "markdown",
   "metadata": {},
   "source": [
    "### Important Features"
   ]
  },
  {
   "cell_type": "code",
   "execution_count": 59,
   "metadata": {},
   "outputs": [
    {
     "name": "stdout",
     "output_type": "stream",
     "text": [
      "[6.21242333e-02 6.05809884e-02 9.25911380e-02 4.17920189e-02\n",
      " 3.00880792e-02 1.83699310e-02 2.36756744e-02 1.86004947e-02\n",
      " 6.13107818e-02 5.18963283e-02 4.96909083e-02 4.86740996e-02\n",
      " 4.85333399e-02 4.79473171e-02 5.12260576e-02 5.09155828e-02\n",
      " 4.74320384e-02 4.47009574e-02 4.21720179e-02 4.65624218e-02\n",
      " 7.96436475e-03 8.26633390e-03 4.17548278e-04 8.37379858e-03\n",
      " 7.84411398e-03 1.51778897e-03 1.28349412e-05 8.35277591e-03\n",
      " 9.11226658e-03 7.10933911e-03 4.04916112e-04 1.26903906e-03\n",
      " 4.70470983e-04]\n"
     ]
    }
   ],
   "source": [
    "from sklearn.ensemble import RandomForestClassifier\n",
    "model=RandomForestClassifier()\n",
    "model.fit(x,y)\n",
    "print(model.feature_importances_)\n"
   ]
  },
  {
   "cell_type": "code",
   "execution_count": 60,
   "metadata": {
    "scrolled": true
   },
   "outputs": [
    {
     "data": {
      "image/png": "[encoded data removed]",
      "text/plain": [
       "<Figure size 432x288 with 1 Axes>"
      ]
     },
     "metadata": {
      "needs_background": "light"
     },
     "output_type": "display_data"
    }
   ],
   "source": [
    "feature_importance=pd.Series(model.feature_importances_,index=x.columns)\n",
    "feature_importance.nlargest(20).plot(kind=\"bar\")\n",
    "plt.show()"
   ]
  },
  {
   "cell_type": "markdown",
   "metadata": {},
   "source": [
    "### Spliting data into training and testing data"
   ]
  },
  {
   "cell_type": "code",
   "execution_count": 61,
   "metadata": {},
   "outputs": [],
   "source": [
    "from sklearn.model_selection import train_test_split\n",
    "xtrain,xtest,ytrain,ytest=train_test_split(x,y,test_size=0.3,random_state=0)"
   ]
  },
  {
   "cell_type": "markdown",
   "metadata": {},
   "source": [
    "Spliting the whole data into 7:3 ratio"
   ]
  },
  {
   "cell_type": "markdown",
   "metadata": {},
   "source": [
    "### Logistic Regression"
   ]
  },
  {
   "cell_type": "code",
   "execution_count": 65,
   "metadata": {},
   "outputs": [],
   "source": [
    "from sklearn.linear_model import LogisticRegression\n",
    "model=LogisticRegression()"
   ]
  },
  {
   "cell_type": "code",
   "execution_count": 106,
   "metadata": {},
   "outputs": [],
   "source": [
    "random_grid={\n",
    "    \"penalty\":[\"l1\",'l2','elasticnet'],\n",
    "    \"C\":np.logspace(-3.0,2.0,num=10000),\n",
    "    \"solver\":['newton-cg', 'lbfgs','saga'],\n",
    "    \"max_iter\":[100,500,1000,2000]\n",
    "}"
   ]
  },
  {
   "cell_type": "code",
   "execution_count": 107,
   "metadata": {},
   "outputs": [],
   "source": [
    "from sklearn.model_selection import RandomizedSearchCV"
   ]
  },
  {
   "cell_type": "code",
   "execution_count": 108,
   "metadata": {},
   "outputs": [],
   "source": [
    "log_model=RandomizedSearchCV(estimator=model,param_distributions=random_grid,scoring=\"f1\",n_iter=10,cv=5,verbose=2,random_state=40)"
   ]
  },
  {
   "cell_type": "code",
   "execution_count": 109,
   "metadata": {},
   "outputs": [
    {
     "name": "stdout",
     "output_type": "stream",
     "text": [
      "Fitting 5 folds for each of 10 candidates, totalling 50 fits\n",
      "[CV] solver=saga, penalty=l1, max_iter=500, C=11.692484171953323 .....\n"
     ]
    },
    {
     "name": "stderr",
     "output_type": "stream",
     "text": [
      "[Parallel(n_jobs=1)]: Using backend SequentialBackend with 1 concurrent workers.\n"
     ]
    },
    {
     "name": "stdout",
     "output_type": "stream",
     "text": [
      "[CV]  solver=saga, penalty=l1, max_iter=500, C=11.692484171953323, total=   3.0s\n",
      "[CV] solver=saga, penalty=l1, max_iter=500, C=11.692484171953323 .....\n"
     ]
    },
    {
     "name": "stderr",
     "output_type": "stream",
     "text": [
      "[Parallel(n_jobs=1)]: Done   1 out of   1 | elapsed:    2.9s remaining:    0.0s\n"
     ]
    },
    {
     "name": "stdout",
     "output_type": "stream",
     "text": [
      "[CV]  solver=saga, penalty=l1, max_iter=500, C=11.692484171953323, total=   3.0s\n",
      "[CV] solver=saga, penalty=l1, max_iter=500, C=11.692484171953323 .....\n",
      "[CV]  solver=saga, penalty=l1, max_iter=500, C=11.692484171953323, total=   2.9s\n",
      "[CV] solver=saga, penalty=l1, max_iter=500, C=11.692484171953323 .....\n",
      "[CV]  solver=saga, penalty=l1, max_iter=500, C=11.692484171953323, total=   2.6s\n",
      "[CV] solver=saga, penalty=l1, max_iter=500, C=11.692484171953323 .....\n",
      "[CV]  solver=saga, penalty=l1, max_iter=500, C=11.692484171953323, total=   3.2s\n",
      "[CV] solver=newton-cg, penalty=l1, max_iter=100, C=86.19727755918439 .\n",
      "[CV]  solver=newton-cg, penalty=l1, max_iter=100, C=86.19727755918439, total=   0.0s\n",
      "[CV] solver=newton-cg, penalty=l1, max_iter=100, C=86.19727755918439 .\n",
      "[CV]  solver=newton-cg, penalty=l1, max_iter=100, C=86.19727755918439, total=   0.0s\n",
      "[CV] solver=newton-cg, penalty=l1, max_iter=100, C=86.19727755918439 .\n",
      "[CV]  solver=newton-cg, penalty=l1, max_iter=100, C=86.19727755918439, total=   0.0s\n",
      "[CV] solver=newton-cg, penalty=l1, max_iter=100, C=86.19727755918439 .\n",
      "[CV]  solver=newton-cg, penalty=l1, max_iter=100, C=86.19727755918439, total=   0.0s\n",
      "[CV] solver=newton-cg, penalty=l1, max_iter=100, C=86.19727755918439 .\n",
      "[CV]  solver=newton-cg, penalty=l1, max_iter=100, C=86.19727755918439, total=   0.0s\n",
      "[CV] solver=lbfgs, penalty=elasticnet, max_iter=500, C=26.88084671083461 \n",
      "[CV]  solver=lbfgs, penalty=elasticnet, max_iter=500, C=26.88084671083461, total=   0.0s\n",
      "[CV] solver=lbfgs, penalty=elasticnet, max_iter=500, C=26.88084671083461 \n",
      "[CV]  solver=lbfgs, penalty=elasticnet, max_iter=500, C=26.88084671083461, total=   0.0s\n",
      "[CV] solver=lbfgs, penalty=elasticnet, max_iter=500, C=26.88084671083461 \n",
      "[CV]  solver=lbfgs, penalty=elasticnet, max_iter=500, C=26.88084671083461, total=   0.0s\n",
      "[CV] solver=lbfgs, penalty=elasticnet, max_iter=500, C=26.88084671083461 \n",
      "[CV]  solver=lbfgs, penalty=elasticnet, max_iter=500, C=26.88084671083461, total=   0.0s\n",
      "[CV] solver=lbfgs, penalty=elasticnet, max_iter=500, C=26.88084671083461 \n",
      "[CV]  solver=lbfgs, penalty=elasticnet, max_iter=500, C=26.88084671083461, total=   0.0s\n",
      "[CV] solver=newton-cg, penalty=l2, max_iter=2000, C=25.057624335066627 \n"
     ]
    },
    {
     "name": "stderr",
     "output_type": "stream",
     "text": [
      "D:\\Anaconda\\lib\\site-packages\\sklearn\\model_selection\\_validation.py:548: FitFailedWarning: Estimator fit failed. The score on this train-test partition for these parameters will be set to nan. Details: \n",
      "Traceback (most recent call last):\n",
      "  File \"D:\\Anaconda\\lib\\site-packages\\sklearn\\model_selection\\_validation.py\", line 531, in _fit_and_score\n",
      "    estimator.fit(X_train, y_train, **fit_params)\n",
      "  File \"D:\\Anaconda\\lib\\site-packages\\sklearn\\linear_model\\_logistic.py\", line 1304, in fit\n",
      "    solver = _check_solver(self.solver, self.penalty, self.dual)\n",
      "  File \"D:\\Anaconda\\lib\\site-packages\\sklearn\\linear_model\\_logistic.py\", line 442, in _check_solver\n",
      "    raise ValueError(\"Solver %s supports only 'l2' or 'none' penalties, \"\n",
      "ValueError: Solver newton-cg supports only 'l2' or 'none' penalties, got l1 penalty.\n",
      "\n",
      "  warnings.warn(\"Estimator fit failed. The score on this train-test\"\n",
      "D:\\Anaconda\\lib\\site-packages\\sklearn\\model_selection\\_validation.py:548: FitFailedWarning: Estimator fit failed. The score on this train-test partition for these parameters will be set to nan. Details: \n",
      "Traceback (most recent call last):\n",
      "  File \"D:\\Anaconda\\lib\\site-packages\\sklearn\\model_selection\\_validation.py\", line 531, in _fit_and_score\n",
      "    estimator.fit(X_train, y_train, **fit_params)\n",
      "  File \"D:\\Anaconda\\lib\\site-packages\\sklearn\\linear_model\\_logistic.py\", line 1304, in fit\n",
      "    solver = _check_solver(self.solver, self.penalty, self.dual)\n",
      "  File \"D:\\Anaconda\\lib\\site-packages\\sklearn\\linear_model\\_logistic.py\", line 442, in _check_solver\n",
      "    raise ValueError(\"Solver %s supports only 'l2' or 'none' penalties, \"\n",
      "ValueError: Solver lbfgs supports only 'l2' or 'none' penalties, got elasticnet penalty.\n",
      "\n",
      "  warnings.warn(\"Estimator fit failed. The score on this train-test\"\n"
     ]
    },
    {
     "name": "stdout",
     "output_type": "stream",
     "text": [
      "[CV]  solver=newton-cg, penalty=l2, max_iter=2000, C=25.057624335066627, total=   0.5s\n",
      "[CV] solver=newton-cg, penalty=l2, max_iter=2000, C=25.057624335066627 \n",
      "[CV]  solver=newton-cg, penalty=l2, max_iter=2000, C=25.057624335066627, total=   0.5s\n",
      "[CV] solver=newton-cg, penalty=l2, max_iter=2000, C=25.057624335066627 \n",
      "[CV]  solver=newton-cg, penalty=l2, max_iter=2000, C=25.057624335066627, total=   0.5s\n",
      "[CV] solver=newton-cg, penalty=l2, max_iter=2000, C=25.057624335066627 \n",
      "[CV]  solver=newton-cg, penalty=l2, max_iter=2000, C=25.057624335066627, total=   0.5s\n",
      "[CV] solver=newton-cg, penalty=l2, max_iter=2000, C=25.057624335066627 \n",
      "[CV]  solver=newton-cg, penalty=l2, max_iter=2000, C=25.057624335066627, total=   0.5s\n",
      "[CV] solver=newton-cg, penalty=elasticnet, max_iter=2000, C=0.038739928593613394 \n",
      "[CV]  solver=newton-cg, penalty=elasticnet, max_iter=2000, C=0.038739928593613394, total=   0.0s\n",
      "[CV] solver=newton-cg, penalty=elasticnet, max_iter=2000, C=0.038739928593613394 \n",
      "[CV]  solver=newton-cg, penalty=elasticnet, max_iter=2000, C=0.038739928593613394, total=   0.0s\n",
      "[CV] solver=newton-cg, penalty=elasticnet, max_iter=2000, C=0.038739928593613394 \n",
      "[CV]  solver=newton-cg, penalty=elasticnet, max_iter=2000, C=0.038739928593613394, total=   0.0s\n",
      "[CV] solver=newton-cg, penalty=elasticnet, max_iter=2000, C=0.038739928593613394 \n",
      "[CV]  solver=newton-cg, penalty=elasticnet, max_iter=2000, C=0.038739928593613394, total=   0.0s\n",
      "[CV] solver=newton-cg, penalty=elasticnet, max_iter=2000, C=0.038739928593613394 \n",
      "[CV]  solver=newton-cg, penalty=elasticnet, max_iter=2000, C=0.038739928593613394, total=   0.0s\n",
      "[CV] solver=saga, penalty=elasticnet, max_iter=100, C=0.09565288421364716 \n",
      "[CV]  solver=saga, penalty=elasticnet, max_iter=100, C=0.09565288421364716, total=   0.0s\n",
      "[CV] solver=saga, penalty=elasticnet, max_iter=100, C=0.09565288421364716 \n",
      "[CV]  solver=saga, penalty=elasticnet, max_iter=100, C=0.09565288421364716, total=   0.0s\n",
      "[CV] solver=saga, penalty=elasticnet, max_iter=100, C=0.09565288421364716 \n",
      "[CV]  solver=saga, penalty=elasticnet, max_iter=100, C=0.09565288421364716, total=   0.0s\n",
      "[CV] solver=saga, penalty=elasticnet, max_iter=100, C=0.09565288421364716 \n",
      "[CV]  solver=saga, penalty=elasticnet, max_iter=100, C=0.09565288421364716, total=   0.0s\n",
      "[CV] solver=saga, penalty=elasticnet, max_iter=100, C=0.09565288421364716 \n",
      "[CV]  solver=saga, penalty=elasticnet, max_iter=100, C=0.09565288421364716, total=   0.0s\n",
      "[CV] solver=newton-cg, penalty=elasticnet, max_iter=500, C=0.08001848397979544 \n",
      "[CV]  solver=newton-cg, penalty=elasticnet, max_iter=500, C=0.08001848397979544, total=   0.0s\n",
      "[CV] solver=newton-cg, penalty=elasticnet, max_iter=500, C=0.08001848397979544 \n",
      "[CV]  solver=newton-cg, penalty=elasticnet, max_iter=500, C=0.08001848397979544, total=   0.0s\n",
      "[CV] solver=newton-cg, penalty=elasticnet, max_iter=500, C=0.08001848397979544 \n",
      "[CV]  solver=newton-cg, penalty=elasticnet, max_iter=500, C=0.08001848397979544, total=   0.0s\n",
      "[CV] solver=newton-cg, penalty=elasticnet, max_iter=500, C=0.08001848397979544 \n",
      "[CV]  solver=newton-cg, penalty=elasticnet, max_iter=500, C=0.08001848397979544, total=   0.0s\n",
      "[CV] solver=newton-cg, penalty=elasticnet, max_iter=500, C=0.08001848397979544 \n",
      "[CV]  solver=newton-cg, penalty=elasticnet, max_iter=500, C=0.08001848397979544, total=   0.0s\n",
      "[CV] solver=lbfgs, penalty=elasticnet, max_iter=2000, C=53.76170671016567 \n",
      "[CV]  solver=lbfgs, penalty=elasticnet, max_iter=2000, C=53.76170671016567, total=   0.0s\n",
      "[CV] solver=lbfgs, penalty=elasticnet, max_iter=2000, C=53.76170671016567 \n",
      "[CV]  solver=lbfgs, penalty=elasticnet, max_iter=2000, C=53.76170671016567, total=   0.0s\n",
      "[CV] solver=lbfgs, penalty=elasticnet, max_iter=2000, C=53.76170671016567 \n",
      "[CV]  solver=lbfgs, penalty=elasticnet, max_iter=2000, C=53.76170671016567, total=   0.0s\n",
      "[CV] solver=lbfgs, penalty=elasticnet, max_iter=2000, C=53.76170671016567 \n",
      "[CV]  solver=lbfgs, penalty=elasticnet, max_iter=2000, C=53.76170671016567, total=   0.0s\n",
      "[CV] solver=lbfgs, penalty=elasticnet, max_iter=2000, C=53.76170671016567 \n",
      "[CV]  solver=lbfgs, penalty=elasticnet, max_iter=2000, C=53.76170671016567, total=   0.0s\n",
      "[CV] solver=newton-cg, penalty=elasticnet, max_iter=500, C=0.6036400936453865 \n",
      "[CV]  solver=newton-cg, penalty=elasticnet, max_iter=500, C=0.6036400936453865, total=   0.0s\n",
      "[CV] solver=newton-cg, penalty=elasticnet, max_iter=500, C=0.6036400936453865 \n",
      "[CV]  solver=newton-cg, penalty=elasticnet, max_iter=500, C=0.6036400936453865, total=   0.0s\n",
      "[CV] solver=newton-cg, penalty=elasticnet, max_iter=500, C=0.6036400936453865 \n",
      "[CV]  solver=newton-cg, penalty=elasticnet, max_iter=500, C=0.6036400936453865, total=   0.0s\n",
      "[CV] solver=newton-cg, penalty=elasticnet, max_iter=500, C=0.6036400936453865 \n",
      "[CV]  solver=newton-cg, penalty=elasticnet, max_iter=500, C=0.6036400936453865, total=   0.0s\n",
      "[CV] solver=newton-cg, penalty=elasticnet, max_iter=500, C=0.6036400936453865 \n",
      "[CV]  solver=newton-cg, penalty=elasticnet, max_iter=500, C=0.6036400936453865, total=   0.0s\n",
      "[CV] solver=saga, penalty=l2, max_iter=1000, C=0.08495577759102746 ...\n"
     ]
    },
    {
     "name": "stderr",
     "output_type": "stream",
     "text": [
      "D:\\Anaconda\\lib\\site-packages\\sklearn\\model_selection\\_validation.py:548: FitFailedWarning: Estimator fit failed. The score on this train-test partition for these parameters will be set to nan. Details: \n",
      "Traceback (most recent call last):\n",
      "  File \"D:\\Anaconda\\lib\\site-packages\\sklearn\\model_selection\\_validation.py\", line 531, in _fit_and_score\n",
      "    estimator.fit(X_train, y_train, **fit_params)\n",
      "  File \"D:\\Anaconda\\lib\\site-packages\\sklearn\\linear_model\\_logistic.py\", line 1304, in fit\n",
      "    solver = _check_solver(self.solver, self.penalty, self.dual)\n",
      "  File \"D:\\Anaconda\\lib\\site-packages\\sklearn\\linear_model\\_logistic.py\", line 442, in _check_solver\n",
      "    raise ValueError(\"Solver %s supports only 'l2' or 'none' penalties, \"\n",
      "ValueError: Solver newton-cg supports only 'l2' or 'none' penalties, got elasticnet penalty.\n",
      "\n",
      "  warnings.warn(\"Estimator fit failed. The score on this train-test\"\n",
      "D:\\Anaconda\\lib\\site-packages\\sklearn\\model_selection\\_validation.py:548: FitFailedWarning: Estimator fit failed. The score on this train-test partition for these parameters will be set to nan. Details: \n",
      "Traceback (most recent call last):\n",
      "  File \"D:\\Anaconda\\lib\\site-packages\\sklearn\\model_selection\\_validation.py\", line 531, in _fit_and_score\n",
      "    estimator.fit(X_train, y_train, **fit_params)\n",
      "  File \"D:\\Anaconda\\lib\\site-packages\\sklearn\\linear_model\\_logistic.py\", line 1312, in fit\n",
      "    raise ValueError(\"l1_ratio must be between 0 and 1;\"\n",
      "ValueError: l1_ratio must be between 0 and 1; got (l1_ratio=None)\n",
      "\n",
      "  warnings.warn(\"Estimator fit failed. The score on this train-test\"\n",
      "D:\\Anaconda\\lib\\site-packages\\sklearn\\model_selection\\_validation.py:548: FitFailedWarning: Estimator fit failed. The score on this train-test partition for these parameters will be set to nan. Details: \n",
      "Traceback (most recent call last):\n",
      "  File \"D:\\Anaconda\\lib\\site-packages\\sklearn\\model_selection\\_validation.py\", line 531, in _fit_and_score\n",
      "    estimator.fit(X_train, y_train, **fit_params)\n",
      "  File \"D:\\Anaconda\\lib\\site-packages\\sklearn\\linear_model\\_logistic.py\", line 1304, in fit\n",
      "    solver = _check_solver(self.solver, self.penalty, self.dual)\n",
      "  File \"D:\\Anaconda\\lib\\site-packages\\sklearn\\linear_model\\_logistic.py\", line 442, in _check_solver\n",
      "    raise ValueError(\"Solver %s supports only 'l2' or 'none' penalties, \"\n",
      "ValueError: Solver lbfgs supports only 'l2' or 'none' penalties, got elasticnet penalty.\n",
      "\n",
      "  warnings.warn(\"Estimator fit failed. The score on this train-test\"\n"
     ]
    },
    {
     "name": "stdout",
     "output_type": "stream",
     "text": [
      "[CV]  solver=saga, penalty=l2, max_iter=1000, C=0.08495577759102746, total=   1.7s\n",
      "[CV] solver=saga, penalty=l2, max_iter=1000, C=0.08495577759102746 ...\n",
      "[CV]  solver=saga, penalty=l2, max_iter=1000, C=0.08495577759102746, total=   1.6s\n",
      "[CV] solver=saga, penalty=l2, max_iter=1000, C=0.08495577759102746 ...\n",
      "[CV]  solver=saga, penalty=l2, max_iter=1000, C=0.08495577759102746, total=   1.6s\n",
      "[CV] solver=saga, penalty=l2, max_iter=1000, C=0.08495577759102746 ...\n",
      "[CV]  solver=saga, penalty=l2, max_iter=1000, C=0.08495577759102746, total=   1.1s\n",
      "[CV] solver=saga, penalty=l2, max_iter=1000, C=0.08495577759102746 ...\n",
      "[CV]  solver=saga, penalty=l2, max_iter=1000, C=0.08495577759102746, total=   2.0s\n"
     ]
    },
    {
     "name": "stderr",
     "output_type": "stream",
     "text": [
      "[Parallel(n_jobs=1)]: Done  50 out of  50 | elapsed:   25.4s finished\n"
     ]
    },
    {
     "data": {
      "text/plain": [
       "RandomizedSearchCV(cv=5, estimator=LogisticRegression(),\n",
       "                   param_distributions={'C': array([1.00000000e-03, 1.00115207e-03, 1.00230547e-03, ...,\n",
       "       9.97699834e+01, 9.98849255e+01, 1.00000000e+02]),\n",
       "                                        'max_iter': [100, 500, 1000, 2000],\n",
       "                                        'penalty': ['l1', 'l2', 'elasticnet'],\n",
       "                                        'solver': ['newton-cg', 'lbfgs',\n",
       "                                                   'saga']},\n",
       "                   random_state=40, scoring='f1', verbose=2)"
      ]
     },
     "execution_count": 109,
     "metadata": {},
     "output_type": "execute_result"
    }
   ],
   "source": [
    "log_model.fit(xtrain,ytrain)"
   ]
  },
  {
   "cell_type": "code",
   "execution_count": 103,
   "metadata": {},
   "outputs": [
    {
     "name": "stdout",
     "output_type": "stream",
     "text": [
      "dict_keys(['C', 'class_weight', 'dual', 'fit_intercept', 'intercept_scaling', 'l1_ratio', 'max_iter', 'multi_class', 'n_jobs', 'penalty', 'random_state', 'solver', 'tol', 'verbose', 'warm_start'])\n"
     ]
    }
   ],
   "source": [
    "print(model.get_params().keys())"
   ]
  },
  {
   "cell_type": "code",
   "execution_count": 110,
   "metadata": {},
   "outputs": [
    {
     "data": {
      "text/plain": [
       "0.664720530395375"
      ]
     },
     "execution_count": 110,
     "metadata": {},
     "output_type": "execute_result"
    }
   ],
   "source": [
    "log_model.best_score_"
   ]
  },
  {
   "cell_type": "code",
   "execution_count": 117,
   "metadata": {},
   "outputs": [
    {
     "data": {
      "text/plain": [
       "{'solver': 'saga', 'penalty': 'l2', 'max_iter': 1000, 'C': 0.08495577759102746}"
      ]
     },
     "execution_count": 117,
     "metadata": {},
     "output_type": "execute_result"
    }
   ],
   "source": [
    "log_model.best_params_"
   ]
  },
  {
   "cell_type": "markdown",
   "metadata": {},
   "source": [
    "So around 66% people are correctly classied as default\n",
    "\n",
    "the result is not that good but have a very good query time\n",
    "\n",
    "let's try some more model to find the best model "
   ]
  },
  {
   "cell_type": "markdown",
   "metadata": {},
   "source": [
    "### KNN "
   ]
  },
  {
   "cell_type": "code",
   "execution_count": 120,
   "metadata": {},
   "outputs": [],
   "source": [
    "from sklearn.neighbors import KNeighborsClassifier\n",
    "from sklearn.metrics import f1_score"
   ]
  },
  {
   "cell_type": "code",
   "execution_count": 126,
   "metadata": {},
   "outputs": [],
   "source": [
    "model= KNeighborsClassifier()"
   ]
  },
  {
   "cell_type": "code",
   "execution_count": 135,
   "metadata": {},
   "outputs": [],
   "source": [
    "k={\"n_neighbors\":[i for i in range(1,10)]}"
   ]
  },
  {
   "cell_type": "code",
   "execution_count": 136,
   "metadata": {},
   "outputs": [
    {
     "name": "stdout",
     "output_type": "stream",
     "text": [
      "Fitting 5 folds for each of 9 candidates, totalling 45 fits\n",
      "[CV] n_neighbors=1 ...................................................\n"
     ]
    },
    {
     "name": "stderr",
     "output_type": "stream",
     "text": [
      "[Parallel(n_jobs=1)]: Using backend SequentialBackend with 1 concurrent workers.\n"
     ]
    },
    {
     "name": "stdout",
     "output_type": "stream",
     "text": [
      "[CV] .................................... n_neighbors=1, total=  11.1s\n",
      "[CV] n_neighbors=1 ...................................................\n"
     ]
    },
    {
     "name": "stderr",
     "output_type": "stream",
     "text": [
      "[Parallel(n_jobs=1)]: Done   1 out of   1 | elapsed:   11.0s remaining:    0.0s\n"
     ]
    },
    {
     "name": "stdout",
     "output_type": "stream",
     "text": [
      "[CV] .................................... n_neighbors=1, total=  11.4s\n",
      "[CV] n_neighbors=1 ...................................................\n",
      "[CV] .................................... n_neighbors=1, total=  11.6s\n",
      "[CV] n_neighbors=1 ...................................................\n",
      "[CV] .................................... n_neighbors=1, total=  11.4s\n",
      "[CV] n_neighbors=1 ...................................................\n",
      "[CV] .................................... n_neighbors=1, total=  11.5s\n",
      "[CV] n_neighbors=2 ...................................................\n",
      "[CV] .................................... n_neighbors=2, total=  13.6s\n",
      "[CV] n_neighbors=2 ...................................................\n",
      "[CV] .................................... n_neighbors=2, total=  13.7s\n",
      "[CV] n_neighbors=2 ...................................................\n",
      "[CV] .................................... n_neighbors=2, total=  13.8s\n",
      "[CV] n_neighbors=2 ...................................................\n",
      "[CV] .................................... n_neighbors=2, total=  13.7s\n",
      "[CV] n_neighbors=2 ...................................................\n",
      "[CV] .................................... n_neighbors=2, total=  13.7s\n",
      "[CV] n_neighbors=3 ...................................................\n",
      "[CV] .................................... n_neighbors=3, total=  15.6s\n",
      "[CV] n_neighbors=3 ...................................................\n",
      "[CV] .................................... n_neighbors=3, total=  15.9s\n",
      "[CV] n_neighbors=3 ...................................................\n",
      "[CV] .................................... n_neighbors=3, total=  15.9s\n",
      "[CV] n_neighbors=3 ...................................................\n",
      "[CV] .................................... n_neighbors=3, total=  15.7s\n",
      "[CV] n_neighbors=3 ...................................................\n",
      "[CV] .................................... n_neighbors=3, total=  15.7s\n",
      "[CV] n_neighbors=4 ...................................................\n",
      "[CV] .................................... n_neighbors=4, total=  17.1s\n",
      "[CV] n_neighbors=4 ...................................................\n",
      "[CV] .................................... n_neighbors=4, total=  17.2s\n",
      "[CV] n_neighbors=4 ...................................................\n",
      "[CV] .................................... n_neighbors=4, total=  17.5s\n",
      "[CV] n_neighbors=4 ...................................................\n",
      "[CV] .................................... n_neighbors=4, total=  17.2s\n",
      "[CV] n_neighbors=4 ...................................................\n",
      "[CV] .................................... n_neighbors=4, total=  17.1s\n",
      "[CV] n_neighbors=5 ...................................................\n",
      "[CV] .................................... n_neighbors=5, total=  17.8s\n",
      "[CV] n_neighbors=5 ...................................................\n",
      "[CV] .................................... n_neighbors=5, total=  17.9s\n",
      "[CV] n_neighbors=5 ...................................................\n",
      "[CV] .................................... n_neighbors=5, total=  18.5s\n",
      "[CV] n_neighbors=5 ...................................................\n",
      "[CV] .................................... n_neighbors=5, total=  18.4s\n",
      "[CV] n_neighbors=5 ...................................................\n",
      "[CV] .................................... n_neighbors=5, total=  17.9s\n",
      "[CV] n_neighbors=6 ...................................................\n",
      "[CV] .................................... n_neighbors=6, total=  18.6s\n",
      "[CV] n_neighbors=6 ...................................................\n",
      "[CV] .................................... n_neighbors=6, total=  18.8s\n",
      "[CV] n_neighbors=6 ...................................................\n",
      "[CV] .................................... n_neighbors=6, total=  19.0s\n",
      "[CV] n_neighbors=6 ...................................................\n",
      "[CV] .................................... n_neighbors=6, total=  18.8s\n",
      "[CV] n_neighbors=6 ...................................................\n",
      "[CV] .................................... n_neighbors=6, total=  18.2s\n",
      "[CV] n_neighbors=7 ...................................................\n",
      "[CV] .................................... n_neighbors=7, total=  18.9s\n",
      "[CV] n_neighbors=7 ...................................................\n",
      "[CV] .................................... n_neighbors=7, total=  18.8s\n",
      "[CV] n_neighbors=7 ...................................................\n",
      "[CV] .................................... n_neighbors=7, total=  19.0s\n",
      "[CV] n_neighbors=7 ...................................................\n",
      "[CV] .................................... n_neighbors=7, total=  18.8s\n",
      "[CV] n_neighbors=7 ...................................................\n",
      "[CV] .................................... n_neighbors=7, total=  18.6s\n",
      "[CV] n_neighbors=8 ...................................................\n",
      "[CV] .................................... n_neighbors=8, total=  19.1s\n",
      "[CV] n_neighbors=8 ...................................................\n",
      "[CV] .................................... n_neighbors=8, total=  19.3s\n",
      "[CV] n_neighbors=8 ...................................................\n",
      "[CV] .................................... n_neighbors=8, total=  19.2s\n",
      "[CV] n_neighbors=8 ...................................................\n",
      "[CV] .................................... n_neighbors=8, total=  19.4s\n",
      "[CV] n_neighbors=8 ...................................................\n",
      "[CV] .................................... n_neighbors=8, total=  18.5s\n",
      "[CV] n_neighbors=9 ...................................................\n",
      "[CV] .................................... n_neighbors=9, total=  19.5s\n",
      "[CV] n_neighbors=9 ...................................................\n",
      "[CV] .................................... n_neighbors=9, total=  19.6s\n",
      "[CV] n_neighbors=9 ...................................................\n",
      "[CV] .................................... n_neighbors=9, total=  19.6s\n",
      "[CV] n_neighbors=9 ...................................................\n",
      "[CV] .................................... n_neighbors=9, total=  19.0s\n",
      "[CV] n_neighbors=9 ...................................................\n",
      "[CV] .................................... n_neighbors=9, total=  18.5s\n"
     ]
    },
    {
     "name": "stderr",
     "output_type": "stream",
     "text": [
      "[Parallel(n_jobs=1)]: Done  45 out of  45 | elapsed: 12.7min finished\n"
     ]
    },
    {
     "data": {
      "text/plain": [
       "GridSearchCV(cv=5, estimator=KNeighborsClassifier(),\n",
       "             param_grid={'n_neighbors': [1, 2, 3, 4, 5, 6, 7, 8, 9]},\n",
       "             scoring='f1', verbose=2)"
      ]
     },
     "execution_count": 136,
     "metadata": {},
     "output_type": "execute_result"
    }
   ],
   "source": [
    "from sklearn.model_selection import GridSearchCV\n",
    "knn_model=GridSearchCV(estimator=model,param_grid=k,cv=5,verbose=2,scoring=\"f1\")\n",
    "knn_model.fit(xtrain,ytrain)"
   ]
  },
  {
   "cell_type": "code",
   "execution_count": 137,
   "metadata": {},
   "outputs": [
    {
     "data": {
      "text/plain": [
       "0.8549675272957031"
      ]
     },
     "execution_count": 137,
     "metadata": {},
     "output_type": "execute_result"
    }
   ],
   "source": [
    "knn_model.best_score_"
   ]
  },
  {
   "cell_type": "code",
   "execution_count": 138,
   "metadata": {},
   "outputs": [
    {
     "data": {
      "text/plain": [
       "{'n_neighbors': 1}"
      ]
     },
     "execution_count": 138,
     "metadata": {},
     "output_type": "execute_result"
    }
   ],
   "source": [
    "knn_model.best_params_"
   ]
  },
  {
   "cell_type": "code",
   "execution_count": 139,
   "metadata": {},
   "outputs": [],
   "source": [
    "y_predict=knn_model.predict(xtest)"
   ]
  },
  {
   "cell_type": "code",
   "execution_count": 140,
   "metadata": {},
   "outputs": [
    {
     "name": "stdout",
     "output_type": "stream",
     "text": [
      "0.881485888029612\n"
     ]
    }
   ],
   "source": [
    "print(f1_score(ytest,y_predict))"
   ]
  },
  {
   "cell_type": "markdown",
   "metadata": {},
   "source": [
    "KNN should be avoided when the required latency is low.Because of the high runtime complexity. When we want the output to be shown as early as possible.Here the latency is not that much important . We want the result to be as close to real value as possible, KNN can be used"
   ]
  },
  {
   "cell_type": "markdown",
   "metadata": {},
   "source": [
    "**Here the f1_score is 88% which is good**"
   ]
  },
  {
   "cell_type": "markdown",
   "metadata": {},
   "source": [
    "### Random Forest "
   ]
  },
  {
   "cell_type": "code",
   "execution_count": 149,
   "metadata": {},
   "outputs": [],
   "source": [
    "from sklearn.ensemble import RandomForestClassifier\n",
    "rf=RandomForestClassifier()"
   ]
  },
  {
   "cell_type": "code",
   "execution_count": 150,
   "metadata": {},
   "outputs": [],
   "source": [
    "n_estimators=[int(x) for x in np.linspace(start=50,stop=1200,num=6)]\n",
    "max_features=[\"auto\",\"sqrt\"]\n",
    "max_depth=[int(x) for x in np.linspace(start=5,stop=30,num=6)]\n",
    "min_samples_split=[2,5,10,15,100]\n",
    "min_samples_leaf=[1,2,5,10]"
   ]
  },
  {
   "cell_type": "code",
   "execution_count": 151,
   "metadata": {},
   "outputs": [
    {
     "name": "stdout",
     "output_type": "stream",
     "text": [
      "{'n_estimators': [50, 154, 259, 363, 468, 572, 677, 781, 886, 990, 1095, 1200], 'max_features': ['auto', 'sqrt'], 'max_depth': [5, 10, 15, 20, 25, 30], 'min_samples_split': [2, 5, 10, 15, 100], 'min_samples_leaf': [1, 2, 5, 10]}\n"
     ]
    }
   ],
   "source": [
    "random_grid={\n",
    "    \"n_estimators\":n_estimators,\n",
    "    \"max_features\":max_features,\n",
    "    \"max_depth\":max_depth,\n",
    "    \"min_samples_split\":min_samples_split,\n",
    "    \"min_samples_leaf\":min_samples_leaf\n",
    "}\n",
    "print(random_grid)"
   ]
  },
  {
   "cell_type": "code",
   "execution_count": 144,
   "metadata": {},
   "outputs": [],
   "source": [
    "from sklearn.model_selection import RandomizedSearchCV\n",
    "rf_random=RandomizedSearchCV(estimator=rf,param_distributions=random_grid,scoring=\"neg_mean_squared_error\",n_iter=10,cv=5,verbose=2,random_state=42)"
   ]
  },
  {
   "cell_type": "code",
   "execution_count": 152,
   "metadata": {},
   "outputs": [
    {
     "name": "stdout",
     "output_type": "stream",
     "text": [
      "Fitting 5 folds for each of 10 candidates, totalling 50 fits\n",
      "[CV] n_estimators=900, min_samples_split=5, min_samples_leaf=5, max_features=sqrt, max_depth=10 \n"
     ]
    },
    {
     "name": "stderr",
     "output_type": "stream",
     "text": [
      "[Parallel(n_jobs=1)]: Using backend SequentialBackend with 1 concurrent workers.\n"
     ]
    },
    {
     "name": "stdout",
     "output_type": "stream",
     "text": [
      "[CV]  n_estimators=900, min_samples_split=5, min_samples_leaf=5, max_features=sqrt, max_depth=10, total=  48.6s\n",
      "[CV] n_estimators=900, min_samples_split=5, min_samples_leaf=5, max_features=sqrt, max_depth=10 \n"
     ]
    },
    {
     "name": "stderr",
     "output_type": "stream",
     "text": [
      "[Parallel(n_jobs=1)]: Done   1 out of   1 | elapsed:   48.5s remaining:    0.0s\n"
     ]
    },
    {
     "name": "stdout",
     "output_type": "stream",
     "text": [
      "[CV]  n_estimators=900, min_samples_split=5, min_samples_leaf=5, max_features=sqrt, max_depth=10, total=  48.1s\n",
      "[CV] n_estimators=900, min_samples_split=5, min_samples_leaf=5, max_features=sqrt, max_depth=10 \n",
      "[CV]  n_estimators=900, min_samples_split=5, min_samples_leaf=5, max_features=sqrt, max_depth=10, total=  48.2s\n",
      "[CV] n_estimators=900, min_samples_split=5, min_samples_leaf=5, max_features=sqrt, max_depth=10 \n",
      "[CV]  n_estimators=900, min_samples_split=5, min_samples_leaf=5, max_features=sqrt, max_depth=10, total=  51.5s\n",
      "[CV] n_estimators=900, min_samples_split=5, min_samples_leaf=5, max_features=sqrt, max_depth=10 \n",
      "[CV]  n_estimators=900, min_samples_split=5, min_samples_leaf=5, max_features=sqrt, max_depth=10, total=  48.4s\n",
      "[CV] n_estimators=1100, min_samples_split=10, min_samples_leaf=2, max_features=sqrt, max_depth=15 \n",
      "[CV]  n_estimators=1100, min_samples_split=10, min_samples_leaf=2, max_features=sqrt, max_depth=15, total= 1.3min\n",
      "[CV] n_estimators=1100, min_samples_split=10, min_samples_leaf=2, max_features=sqrt, max_depth=15 \n",
      "[CV]  n_estimators=1100, min_samples_split=10, min_samples_leaf=2, max_features=sqrt, max_depth=15, total= 1.3min\n",
      "[CV] n_estimators=1100, min_samples_split=10, min_samples_leaf=2, max_features=sqrt, max_depth=15 \n",
      "[CV]  n_estimators=1100, min_samples_split=10, min_samples_leaf=2, max_features=sqrt, max_depth=15, total= 1.3min\n",
      "[CV] n_estimators=1100, min_samples_split=10, min_samples_leaf=2, max_features=sqrt, max_depth=15 \n",
      "[CV]  n_estimators=1100, min_samples_split=10, min_samples_leaf=2, max_features=sqrt, max_depth=15, total=12.2min\n",
      "[CV] n_estimators=1100, min_samples_split=10, min_samples_leaf=2, max_features=sqrt, max_depth=15 \n",
      "[CV]  n_estimators=1100, min_samples_split=10, min_samples_leaf=2, max_features=sqrt, max_depth=15, total= 1.3min\n",
      "[CV] n_estimators=300, min_samples_split=100, min_samples_leaf=5, max_features=auto, max_depth=15 \n",
      "[CV]  n_estimators=300, min_samples_split=100, min_samples_leaf=5, max_features=auto, max_depth=15, total= 1.8min\n",
      "[CV] n_estimators=300, min_samples_split=100, min_samples_leaf=5, max_features=auto, max_depth=15 \n",
      "[CV]  n_estimators=300, min_samples_split=100, min_samples_leaf=5, max_features=auto, max_depth=15, total= 1.8min\n",
      "[CV] n_estimators=300, min_samples_split=100, min_samples_leaf=5, max_features=auto, max_depth=15 \n",
      "[CV]  n_estimators=300, min_samples_split=100, min_samples_leaf=5, max_features=auto, max_depth=15, total= 1.9min\n",
      "[CV] n_estimators=300, min_samples_split=100, min_samples_leaf=5, max_features=auto, max_depth=15 \n",
      "[CV]  n_estimators=300, min_samples_split=100, min_samples_leaf=5, max_features=auto, max_depth=15, total= 1.9min\n",
      "[CV] n_estimators=300, min_samples_split=100, min_samples_leaf=5, max_features=auto, max_depth=15 \n",
      "[CV]  n_estimators=300, min_samples_split=100, min_samples_leaf=5, max_features=auto, max_depth=15, total= 1.8min\n",
      "[CV] n_estimators=400, min_samples_split=5, min_samples_leaf=5, max_features=auto, max_depth=15 \n",
      "[CV]  n_estimators=400, min_samples_split=5, min_samples_leaf=5, max_features=auto, max_depth=15, total= 2.7min\n",
      "[CV] n_estimators=400, min_samples_split=5, min_samples_leaf=5, max_features=auto, max_depth=15 \n",
      "[CV]  n_estimators=400, min_samples_split=5, min_samples_leaf=5, max_features=auto, max_depth=15, total= 2.7min\n",
      "[CV] n_estimators=400, min_samples_split=5, min_samples_leaf=5, max_features=auto, max_depth=15 \n",
      "[CV]  n_estimators=400, min_samples_split=5, min_samples_leaf=5, max_features=auto, max_depth=15, total= 2.7min\n",
      "[CV] n_estimators=400, min_samples_split=5, min_samples_leaf=5, max_features=auto, max_depth=15 \n",
      "[CV]  n_estimators=400, min_samples_split=5, min_samples_leaf=5, max_features=auto, max_depth=15, total= 2.6min\n",
      "[CV] n_estimators=400, min_samples_split=5, min_samples_leaf=5, max_features=auto, max_depth=15 \n",
      "[CV]  n_estimators=400, min_samples_split=5, min_samples_leaf=5, max_features=auto, max_depth=15, total= 2.7min\n",
      "[CV] n_estimators=700, min_samples_split=5, min_samples_leaf=10, max_features=auto, max_depth=20 \n",
      "[CV]  n_estimators=700, min_samples_split=5, min_samples_leaf=10, max_features=auto, max_depth=20, total= 4.8min\n",
      "[CV] n_estimators=700, min_samples_split=5, min_samples_leaf=10, max_features=auto, max_depth=20 \n",
      "[CV]  n_estimators=700, min_samples_split=5, min_samples_leaf=10, max_features=auto, max_depth=20, total= 4.8min\n",
      "[CV] n_estimators=700, min_samples_split=5, min_samples_leaf=10, max_features=auto, max_depth=20 \n",
      "[CV]  n_estimators=700, min_samples_split=5, min_samples_leaf=10, max_features=auto, max_depth=20, total= 4.7min\n",
      "[CV] n_estimators=700, min_samples_split=5, min_samples_leaf=10, max_features=auto, max_depth=20 \n",
      "[CV]  n_estimators=700, min_samples_split=5, min_samples_leaf=10, max_features=auto, max_depth=20, total= 4.7min\n",
      "[CV] n_estimators=700, min_samples_split=5, min_samples_leaf=10, max_features=auto, max_depth=20 \n",
      "[CV]  n_estimators=700, min_samples_split=5, min_samples_leaf=10, max_features=auto, max_depth=20, total= 4.8min\n",
      "[CV] n_estimators=1000, min_samples_split=2, min_samples_leaf=1, max_features=sqrt, max_depth=25 \n",
      "[CV]  n_estimators=1000, min_samples_split=2, min_samples_leaf=1, max_features=sqrt, max_depth=25, total= 1.5min\n",
      "[CV] n_estimators=1000, min_samples_split=2, min_samples_leaf=1, max_features=sqrt, max_depth=25 \n",
      "[CV]  n_estimators=1000, min_samples_split=2, min_samples_leaf=1, max_features=sqrt, max_depth=25, total= 1.5min\n",
      "[CV] n_estimators=1000, min_samples_split=2, min_samples_leaf=1, max_features=sqrt, max_depth=25 \n",
      "[CV]  n_estimators=1000, min_samples_split=2, min_samples_leaf=1, max_features=sqrt, max_depth=25, total= 1.5min\n",
      "[CV] n_estimators=1000, min_samples_split=2, min_samples_leaf=1, max_features=sqrt, max_depth=25 \n",
      "[CV]  n_estimators=1000, min_samples_split=2, min_samples_leaf=1, max_features=sqrt, max_depth=25, total= 1.5min\n",
      "[CV] n_estimators=1000, min_samples_split=2, min_samples_leaf=1, max_features=sqrt, max_depth=25 \n",
      "[CV]  n_estimators=1000, min_samples_split=2, min_samples_leaf=1, max_features=sqrt, max_depth=25, total= 1.5min\n",
      "[CV] n_estimators=1100, min_samples_split=15, min_samples_leaf=10, max_features=sqrt, max_depth=5 \n",
      "[CV]  n_estimators=1100, min_samples_split=15, min_samples_leaf=10, max_features=sqrt, max_depth=5, total=  33.0s\n",
      "[CV] n_estimators=1100, min_samples_split=15, min_samples_leaf=10, max_features=sqrt, max_depth=5 \n",
      "[CV]  n_estimators=1100, min_samples_split=15, min_samples_leaf=10, max_features=sqrt, max_depth=5, total=  33.1s\n",
      "[CV] n_estimators=1100, min_samples_split=15, min_samples_leaf=10, max_features=sqrt, max_depth=5 \n",
      "[CV]  n_estimators=1100, min_samples_split=15, min_samples_leaf=10, max_features=sqrt, max_depth=5, total=  33.1s\n",
      "[CV] n_estimators=1100, min_samples_split=15, min_samples_leaf=10, max_features=sqrt, max_depth=5 \n",
      "[CV]  n_estimators=1100, min_samples_split=15, min_samples_leaf=10, max_features=sqrt, max_depth=5, total=  34.2s\n",
      "[CV] n_estimators=1100, min_samples_split=15, min_samples_leaf=10, max_features=sqrt, max_depth=5 \n",
      "[CV]  n_estimators=1100, min_samples_split=15, min_samples_leaf=10, max_features=sqrt, max_depth=5, total=  33.2s\n",
      "[CV] n_estimators=300, min_samples_split=15, min_samples_leaf=1, max_features=sqrt, max_depth=15 \n",
      "[CV]  n_estimators=300, min_samples_split=15, min_samples_leaf=1, max_features=sqrt, max_depth=15, total=  21.2s\n",
      "[CV] n_estimators=300, min_samples_split=15, min_samples_leaf=1, max_features=sqrt, max_depth=15 \n",
      "[CV]  n_estimators=300, min_samples_split=15, min_samples_leaf=1, max_features=sqrt, max_depth=15, total=  21.4s\n",
      "[CV] n_estimators=300, min_samples_split=15, min_samples_leaf=1, max_features=sqrt, max_depth=15 \n",
      "[CV]  n_estimators=300, min_samples_split=15, min_samples_leaf=1, max_features=sqrt, max_depth=15, total=  21.5s\n",
      "[CV] n_estimators=300, min_samples_split=15, min_samples_leaf=1, max_features=sqrt, max_depth=15 \n",
      "[CV]  n_estimators=300, min_samples_split=15, min_samples_leaf=1, max_features=sqrt, max_depth=15, total=  21.4s\n",
      "[CV] n_estimators=300, min_samples_split=15, min_samples_leaf=1, max_features=sqrt, max_depth=15 \n",
      "[CV]  n_estimators=300, min_samples_split=15, min_samples_leaf=1, max_features=sqrt, max_depth=15, total=  21.5s\n",
      "[CV] n_estimators=700, min_samples_split=10, min_samples_leaf=2, max_features=sqrt, max_depth=5 \n"
     ]
    },
    {
     "name": "stdout",
     "output_type": "stream",
     "text": [
      "[CV]  n_estimators=700, min_samples_split=10, min_samples_leaf=2, max_features=sqrt, max_depth=5, total=  21.0s\n",
      "[CV] n_estimators=700, min_samples_split=10, min_samples_leaf=2, max_features=sqrt, max_depth=5 \n",
      "[CV]  n_estimators=700, min_samples_split=10, min_samples_leaf=2, max_features=sqrt, max_depth=5, total=  21.1s\n",
      "[CV] n_estimators=700, min_samples_split=10, min_samples_leaf=2, max_features=sqrt, max_depth=5 \n",
      "[CV]  n_estimators=700, min_samples_split=10, min_samples_leaf=2, max_features=sqrt, max_depth=5, total=  21.3s\n",
      "[CV] n_estimators=700, min_samples_split=10, min_samples_leaf=2, max_features=sqrt, max_depth=5 \n",
      "[CV]  n_estimators=700, min_samples_split=10, min_samples_leaf=2, max_features=sqrt, max_depth=5, total=  21.2s\n",
      "[CV] n_estimators=700, min_samples_split=10, min_samples_leaf=2, max_features=sqrt, max_depth=5 \n",
      "[CV]  n_estimators=700, min_samples_split=10, min_samples_leaf=2, max_features=sqrt, max_depth=5, total=  21.2s\n",
      "[CV] n_estimators=700, min_samples_split=15, min_samples_leaf=1, max_features=auto, max_depth=20 \n",
      "[CV]  n_estimators=700, min_samples_split=15, min_samples_leaf=1, max_features=auto, max_depth=20, total= 5.4min\n",
      "[CV] n_estimators=700, min_samples_split=15, min_samples_leaf=1, max_features=auto, max_depth=20 \n",
      "[CV]  n_estimators=700, min_samples_split=15, min_samples_leaf=1, max_features=auto, max_depth=20, total= 5.4min\n",
      "[CV] n_estimators=700, min_samples_split=15, min_samples_leaf=1, max_features=auto, max_depth=20 \n",
      "[CV]  n_estimators=700, min_samples_split=15, min_samples_leaf=1, max_features=auto, max_depth=20, total= 5.4min\n",
      "[CV] n_estimators=700, min_samples_split=15, min_samples_leaf=1, max_features=auto, max_depth=20 \n",
      "[CV]  n_estimators=700, min_samples_split=15, min_samples_leaf=1, max_features=auto, max_depth=20, total= 5.3min\n",
      "[CV] n_estimators=700, min_samples_split=15, min_samples_leaf=1, max_features=auto, max_depth=20 \n",
      "[CV]  n_estimators=700, min_samples_split=15, min_samples_leaf=1, max_features=auto, max_depth=20, total= 5.4min\n"
     ]
    },
    {
     "name": "stderr",
     "output_type": "stream",
     "text": [
      "[Parallel(n_jobs=1)]: Done  50 out of  50 | elapsed: 108.5min finished\n"
     ]
    },
    {
     "data": {
      "text/plain": [
       "RandomizedSearchCV(cv=5, estimator=RandomForestRegressor(),\n",
       "                   param_distributions={'max_depth': [5, 10, 15, 20, 25, 30],\n",
       "                                        'max_features': ['auto', 'sqrt'],\n",
       "                                        'min_samples_leaf': [1, 2, 5, 10],\n",
       "                                        'min_samples_split': [2, 5, 10, 15,\n",
       "                                                              100],\n",
       "                                        'n_estimators': [100, 200, 300, 400,\n",
       "                                                         500, 600, 700, 800,\n",
       "                                                         900, 1000, 1100,\n",
       "                                                         1200]},\n",
       "                   random_state=42, scoring='neg_mean_squared_error',\n",
       "                   verbose=2)"
      ]
     },
     "execution_count": 152,
     "metadata": {},
     "output_type": "execute_result"
    }
   ],
   "source": [
    "rf_random.fit(xtrain,ytrain)"
   ]
  },
  {
   "cell_type": "code",
   "execution_count": 153,
   "metadata": {},
   "outputs": [
    {
     "data": {
      "text/plain": [
       "-0.0866572399911785"
      ]
     },
     "execution_count": 153,
     "metadata": {},
     "output_type": "execute_result"
    }
   ],
   "source": [
    "rf_random.best_score_"
   ]
  },
  {
   "cell_type": "code",
   "execution_count": 154,
   "metadata": {},
   "outputs": [
    {
     "data": {
      "text/plain": [
       "{'n_estimators': 1000,\n",
       " 'min_samples_split': 2,\n",
       " 'min_samples_leaf': 1,\n",
       " 'max_features': 'sqrt',\n",
       " 'max_depth': 25}"
      ]
     },
     "execution_count": 154,
     "metadata": {},
     "output_type": "execute_result"
    }
   ],
   "source": [
    "rf_random.best_params_"
   ]
  },
  {
   "cell_type": "code",
   "execution_count": 166,
   "metadata": {},
   "outputs": [],
   "source": [
    "model2=RandomForestClassifier(n_estimators=1000,min_samples_split=2,min_samples_leaf=1,max_features=\"sqrt\",max_depth=25)"
   ]
  },
  {
   "cell_type": "code",
   "execution_count": 167,
   "metadata": {},
   "outputs": [
    {
     "data": {
      "text/plain": [
       "RandomForestClassifier(max_depth=25, max_features='sqrt', n_estimators=1000)"
      ]
     },
     "execution_count": 167,
     "metadata": {},
     "output_type": "execute_result"
    }
   ],
   "source": [
    "model2.fit(xtrain,ytrain)"
   ]
  },
  {
   "cell_type": "code",
   "execution_count": 168,
   "metadata": {},
   "outputs": [],
   "source": [
    "predicting=model2.predict(xtest)"
   ]
  },
  {
   "cell_type": "code",
   "execution_count": 169,
   "metadata": {},
   "outputs": [
    {
     "data": {
      "text/plain": [
       "array([1, 0, 0, ..., 0, 1, 0], dtype=int64)"
      ]
     },
     "execution_count": 169,
     "metadata": {},
     "output_type": "execute_result"
    }
   ],
   "source": [
    "predicting"
   ]
  },
  {
   "cell_type": "code",
   "execution_count": 170,
   "metadata": {},
   "outputs": [
    {
     "data": {
      "text/plain": [
       "0.9237457732385618"
      ]
     },
     "execution_count": 170,
     "metadata": {},
     "output_type": "execute_result"
    }
   ],
   "source": [
    "f1_score(ytest,predicting)"
   ]
  },
  {
   "cell_type": "markdown",
   "metadata": {},
   "source": [
    "**we get 92% f1 score. Wow that's great. Hurray....**"
   ]
  }
 ],
 "metadata": {
  "kernelspec": {
   "display_name": "Python 3",
   "language": "python",
   "name": "python3"
  },
  "language_info": {
   "codemirror_mode": {
    "name": "ipython",
    "version": 3
   },
   "file_extension": ".py",
   "mimetype": "text/x-python",
   "name": "python",
   "nbconvert_exporter": "python",
   "pygments_lexer": "ipython3",
   "version": "3.8.5"
  }
 },
 "nbformat": 4,
 "nbformat_minor": 4
}
